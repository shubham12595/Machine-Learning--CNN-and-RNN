{
  "nbformat": 4,
  "nbformat_minor": 0,
  "metadata": {
    "kernelspec": {
      "display_name": "Python 3",
      "language": "python",
      "name": "python3"
    },
    "language_info": {
      "codemirror_mode": {
        "name": "ipython",
        "version": 3
      },
      "file_extension": ".py",
      "mimetype": "text/x-python",
      "name": "python",
      "nbconvert_exporter": "python",
      "pygments_lexer": "ipython3",
      "version": "3.6.0"
    },
    "colab": {
      "name": "Action_CNN.ipynb",
      "provenance": [],
      "collapsed_sections": [
        "ZF0h635Rkins"
      ]
    }
  },
  "cells": [
    {
      "cell_type": "markdown",
      "metadata": {
        "id": "Czg1rhNykikI",
        "colab_type": "text"
      },
      "source": [
        "# Training a ConvNet PyTorch\n",
        "\n",
        "In this notebook, you'll learn how to use the powerful PyTorch framework to specify a conv net architecture and train it on the human action recognition dataset. \n"
      ]
    },
    {
      "cell_type": "code",
      "metadata": {
        "id": "zPe07Clv2CUX",
        "colab_type": "code",
        "outputId": "8eb36d6e-8d8c-4b61-e58f-6155eb3ce2e7",
        "colab": {
          "base_uri": "https://localhost:8080/",
          "height": 121
        }
      },
      "source": [
        "from google.colab import drive\n",
        "drive.mount('/content/gdrive')"
      ],
      "execution_count": 1,
      "outputs": [
        {
          "output_type": "stream",
          "text": [
            "Go to this URL in a browser: https://accounts.google.com/o/oauth2/auth?client_id=947318989803-6bn6qk8qdgf4n4g3pfee6491hc0brc4i.apps.googleusercontent.com&redirect_uri=urn%3aietf%3awg%3aoauth%3a2.0%3aoob&response_type=code&scope=email%20https%3a%2f%2fwww.googleapis.com%2fauth%2fdocs.test%20https%3a%2f%2fwww.googleapis.com%2fauth%2fdrive%20https%3a%2f%2fwww.googleapis.com%2fauth%2fdrive.photos.readonly%20https%3a%2f%2fwww.googleapis.com%2fauth%2fpeopleapi.readonly\n",
            "\n",
            "Enter your authorization code:\n",
            "··········\n",
            "Mounted at /content/gdrive\n"
          ],
          "name": "stdout"
        }
      ]
    },
    {
      "cell_type": "code",
      "metadata": {
        "id": "sDLBxflrkikP",
        "colab_type": "code",
        "colab": {}
      },
      "source": [
        "import torch\n",
        "import torch.nn as nn\n",
        "import torch.optim as optim\n",
        "from torch.autograd import Variable\n",
        "from torch.utils.data import DataLoader,sampler,Dataset\n",
        "import torchvision.datasets as dset\n",
        "import torchvision.transforms as T\n",
        "import timeit\n",
        "from PIL import Image\n",
        "import os\n",
        "import numpy as np\n",
        "import scipy.io\n"
      ],
      "execution_count": 0,
      "outputs": []
    },
    {
      "cell_type": "markdown",
      "metadata": {
        "id": "QElCZx6Lkikk",
        "colab_type": "text"
      },
      "source": [
        "## What's this PyTorch business?\n",
        "\n",
        "* When using a framework like PyTorch or TensorFlow you can harness the power of the GPU for your own custom neural network architectures without having to write CUDA code directly.\n",
        "* this notebook will walk you through much of what you need to do to train models using pytorch. if you want to learn more or need further clarification on topics that aren't fully explained here, here are 2 good Pytorch tutorials. 1): http://pytorch.org/tutorials/beginner/deep_learning_60min_blitz.html 2)http://pytorch.org/tutorials/beginner/pytorch_with_examples.html\n",
        "* It's not necessary to have a GPU for this homework, using a GPU can make your code run faster.\n"
      ]
    },
    {
      "cell_type": "markdown",
      "metadata": {
        "id": "9E8N5CS8kikp",
        "colab_type": "text"
      },
      "source": [
        "## Load Datasets\n",
        "\n",
        "In this part, we will load the action recognition dataset for the neural network. In order to load data from our custom dataset, we need to write a custom Dataloader. If you put q3_2_data.mat, /valClips,/trainClips,/testClips under the folder of ./data/ , you do not need to change anything in this part."
      ]
    },
    {
      "cell_type": "markdown",
      "metadata": {
        "id": "9D-QCMmzkikv",
        "colab_type": "text"
      },
      "source": [
        "First, load the labels of the dataset, you should write your path of the q3_2_data.mat file."
      ]
    },
    {
      "cell_type": "code",
      "metadata": {
        "id": "ruJKe2KPkik3",
        "colab_type": "code",
        "outputId": "c5180324-83b7-43d8-a362-caea64f89b30",
        "colab": {
          "base_uri": "https://localhost:8080/",
          "height": 50
        }
      },
      "source": [
        "label_mat=scipy.io.loadmat('/content/gdrive/My Drive/hw6(2).zip (Unzipped Files)/Question2/data/hw6_data.mat')\n",
        "label_train=label_mat['trLb']\n",
        "print(len(label_train))\n",
        "label_val=label_mat['valLb']\n",
        "print(len(label_val))"
      ],
      "execution_count": 3,
      "outputs": [
        {
          "output_type": "stream",
          "text": [
            "7770\n",
            "2230\n"
          ],
          "name": "stdout"
        }
      ]
    },
    {
      "cell_type": "markdown",
      "metadata": {
        "id": "O7YeCsVGkilG",
        "colab_type": "text"
      },
      "source": [
        "### Dataset class\n",
        "\n",
        "torch.utils.data.Dataset is an abstract class representing a dataset. The custom dataset should inherit Dataset and override the following methods:\n",
        "\n",
        "    __len__ so that len(dataset) returns the size of the dataset.\n",
        "    __getitem__ to support the indexing such that dataset[i] can be used to get ith sample\n",
        "\n",
        "Let’s create a dataset class for our action recognition dataset. We will read images in __getitem__. This is memory efficient because all the images are not stored in the memory at once but read as required.\n",
        "\n",
        "Sample of our dataset will be a dict {'image':image,'img_path':img_path,'Label':Label}. Our datset will take an optional argument transform so that any required processing can be applied on the sample. "
      ]
    },
    {
      "cell_type": "code",
      "metadata": {
        "id": "gwoCMo8XkilH",
        "colab_type": "code",
        "colab": {}
      },
      "source": [
        "\n",
        "class ActionDataset(Dataset):\n",
        "    \"\"\"Action dataset.\"\"\"\n",
        "\n",
        "    def __init__(self,  root_dir,labels=[], transform=None):\n",
        "        \"\"\"\n",
        "        Args:\n",
        "            root_dir (string): Directory with all the images.\n",
        "            labels(list): labels if images.\n",
        "            transform (callable, optional): Optional transform to be applied on a sample.\n",
        "        \"\"\"\n",
        "        self.root_dir = root_dir\n",
        "        self.transform = transform\n",
        "        self.length=len(os.listdir(self.root_dir))\n",
        "        self.labels=labels\n",
        "    def __len__(self):\n",
        "        return self.length*3\n",
        "\n",
        "    def __getitem__(self, idx):\n",
        "        \n",
        "        folder=int(idx/3)+1\n",
        "        imidx=idx%3+1\n",
        "        folder=format(folder,'05d')\n",
        "        imgname=str(imidx)+'.jpg'\n",
        "        img_path = os.path.join(self.root_dir,\n",
        "                                folder,imgname)\n",
        "        image = Image.open(img_path)\n",
        "        if len(self.labels)!=0:\n",
        "            Label=self.labels[int(idx/3)][0]-1\n",
        "        if self.transform:\n",
        "            image = self.transform(image)\n",
        "        if len(self.labels)!=0:\n",
        "            sample={'image':image,'img_path':img_path,'Label':Label}\n",
        "        else:\n",
        "            sample={'image':image,'img_path':img_path}\n",
        "        return sample\n",
        "  "
      ],
      "execution_count": 0,
      "outputs": []
    },
    {
      "cell_type": "markdown",
      "metadata": {
        "id": "uWuBpSGfkilQ",
        "colab_type": "text"
      },
      "source": [
        "Iterating over the dataset by a for loop."
      ]
    },
    {
      "cell_type": "code",
      "metadata": {
        "id": "hpN7YzC1kilR",
        "colab_type": "code",
        "outputId": "403cc468-0381-4a96-d8ff-bd09fe95acdc",
        "colab": {
          "base_uri": "https://localhost:8080/",
          "height": 521
        }
      },
      "source": [
        "image_dataset=ActionDataset(root_dir='/content/gdrive/My Drive/hw6(2).zip (Unzipped Files)/Question2/data/trainClips',\\\n",
        "                            labels=label_train,transform=T.ToTensor())\n",
        "\n",
        "#iterating though the dataset\n",
        "for i in range(10):\n",
        "    sample=image_dataset[i]\n",
        "    print(sample['image'].shape)\n",
        "    print(sample['Label'])\n",
        "    print(sample['img_path'])\n",
        "     \n",
        "   "
      ],
      "execution_count": 5,
      "outputs": [
        {
          "output_type": "stream",
          "text": [
            "torch.Size([3, 64, 64])\n",
            "0.0\n",
            "/content/gdrive/My Drive/hw6(2).zip (Unzipped Files)/Question2/data/trainClips/00001/1.jpg\n",
            "torch.Size([3, 64, 64])\n",
            "0.0\n",
            "/content/gdrive/My Drive/hw6(2).zip (Unzipped Files)/Question2/data/trainClips/00001/2.jpg\n",
            "torch.Size([3, 64, 64])\n",
            "0.0\n",
            "/content/gdrive/My Drive/hw6(2).zip (Unzipped Files)/Question2/data/trainClips/00001/3.jpg\n",
            "torch.Size([3, 64, 64])\n",
            "0.0\n",
            "/content/gdrive/My Drive/hw6(2).zip (Unzipped Files)/Question2/data/trainClips/00002/1.jpg\n",
            "torch.Size([3, 64, 64])\n",
            "0.0\n",
            "/content/gdrive/My Drive/hw6(2).zip (Unzipped Files)/Question2/data/trainClips/00002/2.jpg\n",
            "torch.Size([3, 64, 64])\n",
            "0.0\n",
            "/content/gdrive/My Drive/hw6(2).zip (Unzipped Files)/Question2/data/trainClips/00002/3.jpg\n",
            "torch.Size([3, 64, 64])\n",
            "0.0\n",
            "/content/gdrive/My Drive/hw6(2).zip (Unzipped Files)/Question2/data/trainClips/00003/1.jpg\n",
            "torch.Size([3, 64, 64])\n",
            "0.0\n",
            "/content/gdrive/My Drive/hw6(2).zip (Unzipped Files)/Question2/data/trainClips/00003/2.jpg\n",
            "torch.Size([3, 64, 64])\n",
            "0.0\n",
            "/content/gdrive/My Drive/hw6(2).zip (Unzipped Files)/Question2/data/trainClips/00003/3.jpg\n",
            "torch.Size([3, 64, 64])\n",
            "0.0\n",
            "/content/gdrive/My Drive/hw6(2).zip (Unzipped Files)/Question2/data/trainClips/00004/1.jpg\n"
          ],
          "name": "stdout"
        }
      ]
    },
    {
      "cell_type": "markdown",
      "metadata": {
        "id": "Cg4HxucHkilW",
        "colab_type": "text"
      },
      "source": [
        "We can iterate over the created dataset with a 'for' loop as before. However, we are losing a lot of features by using a simple for loop to iterate over the data. In particular, we are missing out on:\n",
        "\n",
        "* Batching the data\n",
        "* Shuffling the data\n",
        "* Load the data in parallel using multiprocessing workers.\n",
        "\n",
        "torch.utils.data.DataLoader is an iterator which provides all these features. "
      ]
    },
    {
      "cell_type": "code",
      "metadata": {
        "id": "R_kyIRhJkilY",
        "colab_type": "code",
        "outputId": "1bc53bf9-9e2f-45da-8123-1a6823101ac6",
        "colab": {
          "base_uri": "https://localhost:8080/",
          "height": 406
        }
      },
      "source": [
        "image_dataloader = DataLoader(image_dataset, batch_size=4,\n",
        "                        shuffle=True, num_workers=4)\n",
        "\n",
        "\n",
        "for i,sample in enumerate(image_dataloader):\n",
        "    sample['image']=sample['image']\n",
        "    print(i,sample['image'].shape,sample['img_path'],sample['Label'])\n",
        "    if i>20: \n",
        "        break"
      ],
      "execution_count": 6,
      "outputs": [
        {
          "output_type": "stream",
          "text": [
            "0 torch.Size([4, 3, 64, 64]) ['/content/gdrive/My Drive/hw6(2).zip (Unzipped Files)/Question2/data/trainClips/02004/3.jpg', '/content/gdrive/My Drive/hw6(2).zip (Unzipped Files)/Question2/data/trainClips/03296/3.jpg', '/content/gdrive/My Drive/hw6(2).zip (Unzipped Files)/Question2/data/trainClips/05075/1.jpg', '/content/gdrive/My Drive/hw6(2).zip (Unzipped Files)/Question2/data/trainClips/07345/3.jpg'] tensor([2., 3., 6., 9.])\n",
            "1 torch.Size([4, 3, 64, 64]) ['/content/gdrive/My Drive/hw6(2).zip (Unzipped Files)/Question2/data/trainClips/07346/2.jpg', '/content/gdrive/My Drive/hw6(2).zip (Unzipped Files)/Question2/data/trainClips/06608/3.jpg', '/content/gdrive/My Drive/hw6(2).zip (Unzipped Files)/Question2/data/trainClips/07453/3.jpg', '/content/gdrive/My Drive/hw6(2).zip (Unzipped Files)/Question2/data/trainClips/04778/3.jpg'] tensor([9., 8., 9., 5.])\n",
            "2 torch.Size([4, 3, 64, 64]) ['/content/gdrive/My Drive/hw6(2).zip (Unzipped Files)/Question2/data/trainClips/04459/2.jpg', '/content/gdrive/My Drive/hw6(2).zip (Unzipped Files)/Question2/data/trainClips/01334/1.jpg', '/content/gdrive/My Drive/hw6(2).zip (Unzipped Files)/Question2/data/trainClips/01335/3.jpg', '/content/gdrive/My Drive/hw6(2).zip (Unzipped Files)/Question2/data/trainClips/07564/1.jpg'] tensor([5., 1., 1., 9.])\n",
            "3 torch.Size([4, 3, 64, 64]) ['/content/gdrive/My Drive/hw6(2).zip (Unzipped Files)/Question2/data/trainClips/07275/1.jpg', '/content/gdrive/My Drive/hw6(2).zip (Unzipped Files)/Question2/data/trainClips/05317/2.jpg', '/content/gdrive/My Drive/hw6(2).zip (Unzipped Files)/Question2/data/trainClips/03298/3.jpg', '/content/gdrive/My Drive/hw6(2).zip (Unzipped Files)/Question2/data/trainClips/07260/3.jpg'] tensor([9., 6., 3., 9.])\n",
            "4 torch.Size([4, 3, 64, 64]) ['/content/gdrive/My Drive/hw6(2).zip (Unzipped Files)/Question2/data/trainClips/05959/3.jpg', '/content/gdrive/My Drive/hw6(2).zip (Unzipped Files)/Question2/data/trainClips/05208/2.jpg', '/content/gdrive/My Drive/hw6(2).zip (Unzipped Files)/Question2/data/trainClips/00436/3.jpg', '/content/gdrive/My Drive/hw6(2).zip (Unzipped Files)/Question2/data/trainClips/05664/1.jpg'] tensor([7., 6., 0., 7.])\n",
            "5 torch.Size([4, 3, 64, 64]) ['/content/gdrive/My Drive/hw6(2).zip (Unzipped Files)/Question2/data/trainClips/00395/3.jpg', '/content/gdrive/My Drive/hw6(2).zip (Unzipped Files)/Question2/data/trainClips/00132/1.jpg', '/content/gdrive/My Drive/hw6(2).zip (Unzipped Files)/Question2/data/trainClips/07739/1.jpg', '/content/gdrive/My Drive/hw6(2).zip (Unzipped Files)/Question2/data/trainClips/04690/2.jpg'] tensor([0., 0., 9., 5.])\n",
            "6 torch.Size([4, 3, 64, 64]) ['/content/gdrive/My Drive/hw6(2).zip (Unzipped Files)/Question2/data/trainClips/00687/1.jpg', '/content/gdrive/My Drive/hw6(2).zip (Unzipped Files)/Question2/data/trainClips/00994/1.jpg', '/content/gdrive/My Drive/hw6(2).zip (Unzipped Files)/Question2/data/trainClips/02697/2.jpg', '/content/gdrive/My Drive/hw6(2).zip (Unzipped Files)/Question2/data/trainClips/03210/3.jpg'] tensor([0., 1., 3., 3.])\n",
            "7 torch.Size([4, 3, 64, 64]) ['/content/gdrive/My Drive/hw6(2).zip (Unzipped Files)/Question2/data/trainClips/02294/1.jpg', '/content/gdrive/My Drive/hw6(2).zip (Unzipped Files)/Question2/data/trainClips/06005/1.jpg', '/content/gdrive/My Drive/hw6(2).zip (Unzipped Files)/Question2/data/trainClips/01329/1.jpg', '/content/gdrive/My Drive/hw6(2).zip (Unzipped Files)/Question2/data/trainClips/06288/2.jpg'] tensor([2., 7., 1., 7.])\n",
            "8 torch.Size([4, 3, 64, 64]) ['/content/gdrive/My Drive/hw6(2).zip (Unzipped Files)/Question2/data/trainClips/00614/2.jpg', '/content/gdrive/My Drive/hw6(2).zip (Unzipped Files)/Question2/data/trainClips/01487/3.jpg', '/content/gdrive/My Drive/hw6(2).zip (Unzipped Files)/Question2/data/trainClips/03669/1.jpg', '/content/gdrive/My Drive/hw6(2).zip (Unzipped Files)/Question2/data/trainClips/06626/1.jpg'] tensor([0., 1., 4., 8.])\n",
            "9 torch.Size([4, 3, 64, 64]) ['/content/gdrive/My Drive/hw6(2).zip (Unzipped Files)/Question2/data/trainClips/04563/2.jpg', '/content/gdrive/My Drive/hw6(2).zip (Unzipped Files)/Question2/data/trainClips/07111/1.jpg', '/content/gdrive/My Drive/hw6(2).zip (Unzipped Files)/Question2/data/trainClips/05632/2.jpg', '/content/gdrive/My Drive/hw6(2).zip (Unzipped Files)/Question2/data/trainClips/04777/1.jpg'] tensor([5., 8., 7., 5.])\n",
            "10 torch.Size([4, 3, 64, 64]) ['/content/gdrive/My Drive/hw6(2).zip (Unzipped Files)/Question2/data/trainClips/02957/2.jpg', '/content/gdrive/My Drive/hw6(2).zip (Unzipped Files)/Question2/data/trainClips/01749/3.jpg', '/content/gdrive/My Drive/hw6(2).zip (Unzipped Files)/Question2/data/trainClips/02655/3.jpg', '/content/gdrive/My Drive/hw6(2).zip (Unzipped Files)/Question2/data/trainClips/02021/3.jpg'] tensor([3., 1., 2., 2.])\n",
            "11 torch.Size([4, 3, 64, 64]) ['/content/gdrive/My Drive/hw6(2).zip (Unzipped Files)/Question2/data/trainClips/05811/3.jpg', '/content/gdrive/My Drive/hw6(2).zip (Unzipped Files)/Question2/data/trainClips/01577/3.jpg', '/content/gdrive/My Drive/hw6(2).zip (Unzipped Files)/Question2/data/trainClips/05252/1.jpg', '/content/gdrive/My Drive/hw6(2).zip (Unzipped Files)/Question2/data/trainClips/06607/1.jpg'] tensor([7., 1., 6., 8.])\n",
            "12 torch.Size([4, 3, 64, 64]) ['/content/gdrive/My Drive/hw6(2).zip (Unzipped Files)/Question2/data/trainClips/04361/2.jpg', '/content/gdrive/My Drive/hw6(2).zip (Unzipped Files)/Question2/data/trainClips/06332/2.jpg', '/content/gdrive/My Drive/hw6(2).zip (Unzipped Files)/Question2/data/trainClips/01444/1.jpg', '/content/gdrive/My Drive/hw6(2).zip (Unzipped Files)/Question2/data/trainClips/01528/2.jpg'] tensor([5., 7., 1., 1.])\n",
            "13 torch.Size([4, 3, 64, 64]) ['/content/gdrive/My Drive/hw6(2).zip (Unzipped Files)/Question2/data/trainClips/07569/2.jpg', '/content/gdrive/My Drive/hw6(2).zip (Unzipped Files)/Question2/data/trainClips/04067/2.jpg', '/content/gdrive/My Drive/hw6(2).zip (Unzipped Files)/Question2/data/trainClips/00485/3.jpg', '/content/gdrive/My Drive/hw6(2).zip (Unzipped Files)/Question2/data/trainClips/03235/3.jpg'] tensor([9., 4., 0., 3.])\n",
            "14 torch.Size([4, 3, 64, 64]) ['/content/gdrive/My Drive/hw6(2).zip (Unzipped Files)/Question2/data/trainClips/04483/3.jpg', '/content/gdrive/My Drive/hw6(2).zip (Unzipped Files)/Question2/data/trainClips/07524/3.jpg', '/content/gdrive/My Drive/hw6(2).zip (Unzipped Files)/Question2/data/trainClips/02665/1.jpg', '/content/gdrive/My Drive/hw6(2).zip (Unzipped Files)/Question2/data/trainClips/05906/3.jpg'] tensor([5., 9., 2., 7.])\n",
            "15 torch.Size([4, 3, 64, 64]) ['/content/gdrive/My Drive/hw6(2).zip (Unzipped Files)/Question2/data/trainClips/00140/2.jpg', '/content/gdrive/My Drive/hw6(2).zip (Unzipped Files)/Question2/data/trainClips/05488/1.jpg', '/content/gdrive/My Drive/hw6(2).zip (Unzipped Files)/Question2/data/trainClips/01466/1.jpg', '/content/gdrive/My Drive/hw6(2).zip (Unzipped Files)/Question2/data/trainClips/07285/3.jpg'] tensor([0., 6., 1., 9.])\n",
            "16 torch.Size([4, 3, 64, 64]) ['/content/gdrive/My Drive/hw6(2).zip (Unzipped Files)/Question2/data/trainClips/00793/2.jpg', '/content/gdrive/My Drive/hw6(2).zip (Unzipped Files)/Question2/data/trainClips/07005/2.jpg', '/content/gdrive/My Drive/hw6(2).zip (Unzipped Files)/Question2/data/trainClips/06177/3.jpg', '/content/gdrive/My Drive/hw6(2).zip (Unzipped Files)/Question2/data/trainClips/05973/1.jpg'] tensor([0., 8., 7., 7.])\n",
            "17 torch.Size([4, 3, 64, 64]) ['/content/gdrive/My Drive/hw6(2).zip (Unzipped Files)/Question2/data/trainClips/04192/3.jpg', '/content/gdrive/My Drive/hw6(2).zip (Unzipped Files)/Question2/data/trainClips/00958/3.jpg', '/content/gdrive/My Drive/hw6(2).zip (Unzipped Files)/Question2/data/trainClips/04614/2.jpg', '/content/gdrive/My Drive/hw6(2).zip (Unzipped Files)/Question2/data/trainClips/06643/3.jpg'] tensor([5., 1., 5., 8.])\n",
            "18 torch.Size([4, 3, 64, 64]) ['/content/gdrive/My Drive/hw6(2).zip (Unzipped Files)/Question2/data/trainClips/01729/1.jpg', '/content/gdrive/My Drive/hw6(2).zip (Unzipped Files)/Question2/data/trainClips/01009/3.jpg', '/content/gdrive/My Drive/hw6(2).zip (Unzipped Files)/Question2/data/trainClips/07702/3.jpg', '/content/gdrive/My Drive/hw6(2).zip (Unzipped Files)/Question2/data/trainClips/00251/3.jpg'] tensor([1., 1., 9., 0.])\n",
            "19 torch.Size([4, 3, 64, 64]) ['/content/gdrive/My Drive/hw6(2).zip (Unzipped Files)/Question2/data/trainClips/07509/2.jpg', '/content/gdrive/My Drive/hw6(2).zip (Unzipped Files)/Question2/data/trainClips/00180/3.jpg', '/content/gdrive/My Drive/hw6(2).zip (Unzipped Files)/Question2/data/trainClips/02579/2.jpg', '/content/gdrive/My Drive/hw6(2).zip (Unzipped Files)/Question2/data/trainClips/01810/3.jpg'] tensor([9., 0., 2., 1.])\n",
            "20 torch.Size([4, 3, 64, 64]) ['/content/gdrive/My Drive/hw6(2).zip (Unzipped Files)/Question2/data/trainClips/01095/3.jpg', '/content/gdrive/My Drive/hw6(2).zip (Unzipped Files)/Question2/data/trainClips/04099/3.jpg', '/content/gdrive/My Drive/hw6(2).zip (Unzipped Files)/Question2/data/trainClips/03157/2.jpg', '/content/gdrive/My Drive/hw6(2).zip (Unzipped Files)/Question2/data/trainClips/02832/1.jpg'] tensor([1., 4., 3., 3.])\n",
            "21 torch.Size([4, 3, 64, 64]) ['/content/gdrive/My Drive/hw6(2).zip (Unzipped Files)/Question2/data/trainClips/01630/1.jpg', '/content/gdrive/My Drive/hw6(2).zip (Unzipped Files)/Question2/data/trainClips/02669/2.jpg', '/content/gdrive/My Drive/hw6(2).zip (Unzipped Files)/Question2/data/trainClips/02107/2.jpg', '/content/gdrive/My Drive/hw6(2).zip (Unzipped Files)/Question2/data/trainClips/02692/3.jpg'] tensor([1., 2., 2., 3.])\n"
          ],
          "name": "stdout"
        }
      ]
    },
    {
      "cell_type": "markdown",
      "metadata": {
        "id": "XWlY1-Tpkild",
        "colab_type": "text"
      },
      "source": [
        "Dataloaders for the training, validationg and testing set. "
      ]
    },
    {
      "cell_type": "code",
      "metadata": {
        "id": "88bh4JpKkile",
        "colab_type": "code",
        "colab": {}
      },
      "source": [
        "image_dataset_train=ActionDataset(root_dir='/content/gdrive/My Drive/hw6(2).zip (Unzipped Files)/Question2/data/trainClips',labels=label_train,transform=T.ToTensor())\n",
        "\n",
        "image_dataloader_train = DataLoader(image_dataset_train, batch_size=32,\n",
        "                        shuffle=True, num_workers=4)\n",
        "image_dataset_val=ActionDataset(root_dir='/content/gdrive/My Drive/hw6(2).zip (Unzipped Files)/Question2/data/valClips',labels=label_val,transform=T.ToTensor())\n",
        "\n",
        "image_dataloader_val = DataLoader(image_dataset_val, batch_size=32,\n",
        "                        shuffle=False, num_workers=4)\n",
        "image_dataset_test=ActionDataset(root_dir='/content/gdrive/My Drive/hw6(2).zip (Unzipped Files)/Question2/data/testClips',labels=[],transform=T.ToTensor())\n",
        "\n",
        "image_dataloader_test = DataLoader(image_dataset_test, batch_size=32,\n",
        "                        shuffle=False, num_workers=4)"
      ],
      "execution_count": 0,
      "outputs": []
    },
    {
      "cell_type": "code",
      "metadata": {
        "id": "NlHfd8Opkili",
        "colab_type": "code",
        "colab": {}
      },
      "source": [
        "dtype = torch.FloatTensor # the CPU datatype\n",
        "# Constant to control how frequently we print train loss\n",
        "print_every = 100\n",
        "# This is a little utility that we'll use to reset the model\n",
        "# if we want to re-initialize all our parameters\n",
        "def reset(m):\n",
        "    if hasattr(m, 'reset_parameters'):\n",
        "        m.reset_parameters()"
      ],
      "execution_count": 0,
      "outputs": []
    },
    {
      "cell_type": "markdown",
      "metadata": {
        "id": "w5Vwl83Lkill",
        "colab_type": "text"
      },
      "source": [
        "## Example Model\n",
        "\n",
        "### Some assorted tidbits\n",
        "\n",
        "Let's start by looking at a simple model. First, note that PyTorch operates on Tensors, which are n-dimensional arrays functionally analogous to numpy's ndarrays, with the additional feature that they can be used for computations on GPUs.\n",
        "\n",
        "We'll provide you with a Flatten function, which we explain here. Remember that our image data (and more relevantly, our intermediate feature maps) are initially N x C x H x W, where:\n",
        "* N is the number of datapoints\n",
        "* C is the number of image channels. \n",
        "* H is the height of the intermediate feature map in pixels\n",
        "* W is the height of the intermediate feature map in pixels\n",
        "\n",
        "This is the right way to represent the data when we are doing something like a 2D convolution, that needs spatial understanding of where the intermediate features are relative to each other. When we input  data into fully connected affine layers, however, we want each datapoint to be represented by a single vector -- it's no longer useful to segregate the different channels, rows, and columns of the data. So, we use a \"Flatten\" operation to collapse the C x H x W values per representation into a single long vector. The Flatten function below first reads in the N, C, H, and W values from a given batch of data, and then returns a \"view\" of that data. \"View\" is analogous to numpy's \"reshape\" method: it reshapes x's dimensions to be N x ??, where ?? is allowed to be anything (in this case, it will be C x H x W, but we don't need to specify that explicitly). "
      ]
    },
    {
      "cell_type": "code",
      "metadata": {
        "id": "SfjCjTsnkilm",
        "colab_type": "code",
        "colab": {}
      },
      "source": [
        "class Flatten(nn.Module):\n",
        "    def forward(self, x):\n",
        "        N, C, H, W = x.size() # read in N, C, H, W\n",
        "        return x.view(N, -1)  # \"flatten\" the C * H * W values into a single vector per image"
      ],
      "execution_count": 0,
      "outputs": []
    },
    {
      "cell_type": "markdown",
      "metadata": {
        "id": "M0akDg9Zkilp",
        "colab_type": "text"
      },
      "source": [
        "### The example model itself\n",
        "\n",
        "The first step to training your own model is defining its architecture.\n",
        "\n",
        "Here's an example of a convolutional neural network defined in PyTorch -- try to understand what each line is doing, remembering that each layer is composed upon the previous layer. We haven't trained anything yet - that'll come next - for now, we want you to understand how everything gets set up.  nn.Sequential is a container which applies each layer\n",
        "one after the other.\n",
        "\n",
        "In this example, you see 2D convolutional layers (Conv2d), ReLU activations, and fully-connected layers (Linear). You also see the Cross-Entropy loss function, and the Adam optimizer being used. \n",
        "\n",
        "Make sure you understand why the parameters of the Linear layer are 10092 and 10.\n"
      ]
    },
    {
      "cell_type": "code",
      "metadata": {
        "id": "86Z0XTsZkilq",
        "colab_type": "code",
        "colab": {}
      },
      "source": [
        "# Here's where we define the architecture of the model... \n",
        "simple_model = nn.Sequential(\n",
        "                nn.Conv2d(3, 32, kernel_size=7, stride=2),\n",
        "                nn.ReLU(inplace=True),\n",
        "                Flatten(), # see above for explanation\n",
        "                nn.Linear(10092, 10), # affine layer\n",
        "              )\n",
        "\n",
        "# Set the type of all data in this model to be FloatTensor \n",
        "simple_model.type(dtype)\n",
        "\n",
        "loss_fn = nn.CrossEntropyLoss().type(dtype)\n",
        "optimizer = optim.Adam(simple_model.parameters(), lr=1e-2) # lr sets the learning rate of the optimizer"
      ],
      "execution_count": 0,
      "outputs": []
    },
    {
      "cell_type": "markdown",
      "metadata": {
        "id": "Ewte7dUbkilt",
        "colab_type": "text"
      },
      "source": [
        "PyTorch supports many other layer types, loss functions, and optimizers - you will experiment with these next. Here's the official API documentation for these (if any of the parameters used above were unclear, this resource will also be helpful). \n",
        "\n",
        "* Layers: http://pytorch.org/docs/nn.html\n",
        "* Activations: http://pytorch.org/docs/nn.html#non-linear-activations\n",
        "* Loss functions: http://pytorch.org/docs/nn.html#loss-functions\n",
        "* Optimizers: http://pytorch.org/docs/optim.html#algorithms"
      ]
    },
    {
      "cell_type": "markdown",
      "metadata": {
        "id": "p0l2cX4lkilu",
        "colab_type": "text"
      },
      "source": [
        "## Training a specific model\n",
        "\n",
        "In this section, we're going to specify a model for you to construct. The goal here isn't to get good performance (that'll be next), but instead to get comfortable with understanding the PyTorch documentation and configuring your own model. \n",
        "\n",
        "Using the code provided above as guidance, and using the following PyTorch documentation, specify a model with the following architecture:\n",
        "\n",
        "* 7x7 Convolutional Layer with 8 filters and stride of 1\n",
        "* ReLU Activation Layer\n",
        "* 2x2 Max Pooling layer with a stride of 2\n",
        "* 7x7 Convolutional Layer with 16 filters and stride of 1\n",
        "* ReLU Activation Layer\n",
        "* 2x2 Max Pooling layer with a stride of 2\n",
        "* Flatten the feature map\n",
        "* ReLU Activation Layer\n",
        "* Affine layer to map input units to 10 outputs, you need to figure out the input size here.\n"
      ]
    },
    {
      "cell_type": "code",
      "metadata": {
        "id": "aQHDD56Tkilv",
        "colab_type": "code",
        "colab": {}
      },
      "source": [
        "fixed_model_base = nn.Sequential( \n",
        "                    nn.Conv2d(3, 8, kernel_size=7, stride=1),\n",
        "                    nn.ReLU(inplace=True),\n",
        "                    nn.MaxPool2d(kernel_size=2,stride=2,padding =0),\n",
        "                    nn.Conv2d(8, 16, kernel_size=7, stride=1),\n",
        "                    nn.ReLU(inplace=True),\n",
        "                    nn.MaxPool2d(kernel_size=2,stride=2,padding =0),\n",
        "                    Flatten(), # see above for explanation\n",
        "                    nn.ReLU(inplace=True),\n",
        "                    nn.Linear( 1936 , 10), # affine layer\n",
        "            )\n",
        "fixed_model = fixed_model_base.type(dtype)\n",
        "\n"
      ],
      "execution_count": 0,
      "outputs": []
    },
    {
      "cell_type": "markdown",
      "metadata": {
        "id": "6K1qjzb-kilx",
        "colab_type": "text"
      },
      "source": [
        "To make sure you're doing the right thing, use the following tool to check the dimensionality of your output (it should be 32 x 10, since our batches have size 32 and the output of the final affine layer should be 10, corresponding to our 10 classes):"
      ]
    },
    {
      "cell_type": "code",
      "metadata": {
        "id": "L029BLMHkily",
        "colab_type": "code",
        "outputId": "d8c40ca1-b99c-410d-b21d-f751d55e069f",
        "colab": {
          "base_uri": "https://localhost:8080/",
          "height": 50
        }
      },
      "source": [
        "## Now we're going to feed a random batch into the model you defined and make sure the output is the right size\n",
        "x = torch.randn(32, 3, 64, 64).type(dtype)\n",
        "x_var = Variable(x.type(dtype)) # Construct a PyTorch Variable out of your input data\n",
        "ans = fixed_model(x_var)        # Feed it through the model! \n",
        "\n",
        "# Check to make sure what comes out of your model\n",
        "# is the right dimensionality... this should be True\n",
        "# if you've done everything correctly\n",
        "print(np.array(ans.size()))\n",
        "np.array_equal(np.array(ans.size()), np.array([32, 10]))   \n"
      ],
      "execution_count": 13,
      "outputs": [
        {
          "output_type": "stream",
          "text": [
            "[32 10]\n"
          ],
          "name": "stdout"
        },
        {
          "output_type": "execute_result",
          "data": {
            "text/plain": [
              "True"
            ]
          },
          "metadata": {
            "tags": []
          },
          "execution_count": 13
        }
      ]
    },
    {
      "cell_type": "markdown",
      "metadata": {
        "id": "dU4ZQyD2kil0",
        "colab_type": "text"
      },
      "source": [
        "### Train the model.\n",
        "\n",
        "Now that you've seen how to define a model and do a single forward pass of some data through it, let's  walk through how you'd actually train one whole epoch over your training data (using the fixed_model_base we provided above).\n",
        "\n",
        "Make sure you understand how each PyTorch function used below corresponds to what you implemented in your custom neural network implementation.\n",
        "\n",
        "Note that because we are not resetting the weights anywhere below, if you run the cell multiple times, you are effectively training multiple epochs (so your performance should improve).\n",
        "\n",
        "First, set up an RMSprop optimizer (using a 1e-4 learning rate) and a cross-entropy loss function:"
      ]
    },
    {
      "cell_type": "code",
      "metadata": {
        "id": "CL0kHO_Rkil1",
        "colab_type": "code",
        "colab": {}
      },
      "source": [
        "loss_fn = nn.CrossEntropyLoss().type(dtype)\n",
        "optimizer = optim.Adam(fixed_model.parameters(), lr=1e-4)"
      ],
      "execution_count": 0,
      "outputs": []
    },
    {
      "cell_type": "code",
      "metadata": {
        "id": "swBi5_QJkil3",
        "colab_type": "code",
        "colab": {}
      },
      "source": [
        "# This sets the model in \"training\" mode. \n",
        "# This is relevant for some layers that may have different behavior\n",
        "# in training mode vs testing mode, such as Dropout and BatchNorm. \n",
        "fixed_model.train()\n",
        "\n",
        "# Load one batch at a time.\n",
        "for t, sample in enumerate(image_dataloader_train):\n",
        "    x_var = Variable(sample['image'])\n",
        "    #print(type(x_var.data))\n",
        "    #print(x_var.shape)\n",
        "    y_var = Variable(sample['Label']).long()\n",
        "\n",
        "    # This is the forward pass: predict the scores for each class, for each x in the batch.\n",
        "    scores = fixed_model(x_var)\n",
        "    \n",
        "    # Use the correct y values and the predicted y values to compute the loss.\n",
        "    loss = loss_fn(scores, y_var)\n",
        "    \n",
        "    if (t + 1) % print_every == 0:\n",
        "        print('t = %d, loss = %.4f' % (t + 1, loss.data))\n",
        "\n",
        "    # Zero out all of the gradients for the variables which the optimizer will update.\n",
        "    optimizer.zero_grad()\n",
        "    \n",
        "    # This is the backwards pass: compute the gradient of the loss with respect to each \n",
        "    # parameter of the model.\n",
        "    loss.backward()\n",
        "    \n",
        "    # Actually update the parameters of the model using the gradients computed by the backwards pass.\n",
        "    optimizer.step()\n",
        "   "
      ],
      "execution_count": 0,
      "outputs": []
    },
    {
      "cell_type": "markdown",
      "metadata": {
        "id": "F39GZuPmkimH",
        "colab_type": "text"
      },
      "source": [
        "Now you've seen how the training process works in PyTorch. To save you writing boilerplate code, we're providing the following helper functions to help you train for multiple epochs and check the accuracy of your model:"
      ]
    },
    {
      "cell_type": "code",
      "metadata": {
        "id": "zkwbyfXwkimJ",
        "colab_type": "code",
        "colab": {}
      },
      "source": [
        "def train(model, loss_fn, optimizer, dataloader, num_epochs = 1):\n",
        "    for epoch in range(num_epochs):\n",
        "        print('Starting epoch %d / %d' % (epoch + 1, num_epochs))\n",
        "        model.train()\n",
        "        for t, sample in enumerate(dataloader):\n",
        "            x_var = Variable(sample['image'])\n",
        "            y_var = Variable(sample['Label'].long())\n",
        "\n",
        "            scores = model(x_var)\n",
        "            \n",
        "            loss = loss_fn(scores, y_var)\n",
        "            if (t + 1) % print_every == 0:\n",
        "                print('t = %d, loss = %.4f' % (t + 1, loss.data))\n",
        "\n",
        "            optimizer.zero_grad()\n",
        "            loss.backward()\n",
        "            optimizer.step()\n",
        "\n",
        "def check_accuracy(model, loader):\n",
        "    '''\n",
        "    if loader.dataset.train:\n",
        "        print('Checking accuracy on validation set')\n",
        "    else:\n",
        "        print('Checking accuracy on test set')  \n",
        "    '''\n",
        "    num_correct = 0\n",
        "    num_samples = 0\n",
        "    model.eval() # Put the model in test mode (the opposite of model.train(), essentially)\n",
        "    for t, sample in enumerate(loader):\n",
        "        x_var = Variable(sample['image'])\n",
        "        y_var = sample['Label']\n",
        "        #y_var=y_var.cpu()\n",
        "        scores = model(x_var)\n",
        "        _, preds = scores.data.max(1)#scores.data.cpu().max(1)\n",
        "        #print(preds)\n",
        "        #print(y_var)\n",
        "        num_correct += (preds.numpy() == y_var.numpy()).sum()\n",
        "        num_samples += preds.size(0)\n",
        "    acc = float(num_correct) / num_samples\n",
        "    print('Got %d / %d correct (%.2f)' % (num_correct, num_samples, 100 * acc))\n",
        "    \n",
        "    \n",
        "\n"
      ],
      "execution_count": 0,
      "outputs": []
    },
    {
      "cell_type": "markdown",
      "metadata": {
        "id": "TgazBdowkimU",
        "colab_type": "text"
      },
      "source": [
        "### Check the accuracy of the model.\n",
        "\n",
        "Let's see the train and check_accuracy code in action -- feel free to use these methods when evaluating the models you develop below.\n",
        "\n",
        "You should get a training loss of around 1.0-1.2, and a validation accuracy of around 50-60%. As mentioned above, if you re-run the cells, you'll be training more epochs, so your performance will improve past these numbers.\n",
        "\n",
        "But don't worry about getting these numbers better -- this was just practice before you tackle designing your own model."
      ]
    },
    {
      "cell_type": "code",
      "metadata": {
        "id": "e0KVG7cXkimc",
        "colab_type": "code",
        "colab": {}
      },
      "source": [
        "torch.random.manual_seed(12345)\n",
        "fixed_model.cpu()\n",
        "fixed_model.apply(reset) \n",
        "fixed_model.train() \n",
        "train(fixed_model, loss_fn, optimizer,image_dataloader_train, num_epochs=3) \n",
        "check_accuracy(fixed_model, image_dataloader_train)# check accuracy on the training set\n"
      ],
      "execution_count": 0,
      "outputs": []
    },
    {
      "cell_type": "markdown",
      "metadata": {
        "id": "xUkUV3uFkimv",
        "colab_type": "text"
      },
      "source": [
        "### Don't forget the validation set!\n",
        "\n",
        "And note that you can use the check_accuracy function to evaluate on the validation set, by passing **image_dataloader_val** as the second argument to check_accuracy. The accuracy on validation set is arround 40-50%."
      ]
    },
    {
      "cell_type": "code",
      "metadata": {
        "id": "qIPA6RP8kimw",
        "colab_type": "code",
        "colab": {}
      },
      "source": [
        "check_accuracy(fixed_model, image_dataloader_val)#check accuracy on the validation set"
      ],
      "execution_count": 0,
      "outputs": []
    },
    {
      "cell_type": "markdown",
      "metadata": {
        "id": "0sR_FF3Tkimz",
        "colab_type": "text"
      },
      "source": [
        "##### Train a better  model for action recognition!\n",
        "\n",
        "Now it's your job to experiment with architectures, hyperparameters, loss functions, and optimizers to train a model that achieves better accuracy on the action recognition **validation** set. You can use the check_accuracy and train functions from above."
      ]
    },
    {
      "cell_type": "markdown",
      "metadata": {
        "id": "O6widA8Zkim2",
        "colab_type": "text"
      },
      "source": [
        "### Things you should try:\n",
        "- **Filter size**: Above we used 7x7; this makes pretty pictures but smaller filters may be more efficient\n",
        "- **Number of filters**: Do more or fewer do better?\n",
        "- **Pooling vs Strided Convolution**: Do you use max pooling or just stride convolutions?\n",
        "- **Batch normalization**: Try adding spatial batch normalization after convolution layers and vanilla batch normalization after affine layers. Do your networks train faster?\n",
        "- **Network architecture**: The network above has two layers of trainable parameters. Can you do better with a deep network? Good architectures to try include:\n",
        "    - [conv-relu-pool]xN -> [affine]xM -> [softmax or SVM]\n",
        "    - [conv-relu-conv-relu-pool]xN -> [affine]xM -> [softmax or SVM]\n",
        "    - [batchnorm-relu-conv]xN -> [affine]xM -> [softmax or SVM]\n",
        "- **Global Average Pooling**: Instead of flattening and then having multiple affine layers, perform convolutions until your image gets small (7x7 or so) and then perform an average pooling operation to get to a 1x1 image picture (1, 1 , Filter#), which is then reshaped into a (Filter#) vector. This is used in [Google's Inception Network](https://arxiv.org/abs/1512.00567) (See Table 1 for their architecture).\n",
        "- **Regularization**: Add l2 weight regularization, or perhaps use Dropout.\n",
        "\n",
        "### Tips for training\n",
        "For each network architecture that you try, you should tune the learning rate and regularization strength. When doing this there are a couple important things to keep in mind:\n",
        "\n",
        "- If the parameters are working well, you should see improvement within a few hundred iterations\n",
        "- Remember the coarse-to-fine approach for hyperparameter tuning: start by testing a large range of hyperparameters for just a few training iterations to find the combinations of parameters that are working at all.\n",
        "- Once you have found some sets of parameters that seem to work, search more finely around these parameters. You may need to train for more epochs.\n",
        "- You should use the validation set for hyperparameter search, and save your test set for evaluating your architecture on the best parameters as selected by the validation set.\n",
        "\n",
        "### Going above and beyond\n",
        "If you are feeling adventurous there are many other features you can implement to try and improve your performance. You are **not required** to implement any of these; however they would be good things to try.\n",
        "\n",
        "- Alternative update steps: For the assignment we implemented SGD+momentum, RMSprop, and Adam; you could try alternatives like AdaGrad or AdaDelta.\n",
        "- Alternative activation functions such as leaky ReLU, parametric ReLU, ELU, or MaxOut.\n",
        "- Model ensembles\n",
        "- Data augmentation\n",
        "- New Architectures\n",
        "  - [ResNets](https://arxiv.org/abs/1512.03385) where the input from the previous layer is added to the output.\n",
        "  - [DenseNets](https://arxiv.org/abs/1608.06993) where inputs into previous layers are concatenated together.\n",
        "  - [This blog has an in-depth overview](https://chatbotslife.com/resnets-highwaynets-and-densenets-oh-my-9bb15918ee32)\n",
        "\n",
        "If you do decide to implement something extra, clearly describe it in the \"Extra Credit Description\" cell below.\n",
        "\n",
        "### What we expect\n",
        "At the very least, you should be able to train a ConvNet that gets at least 55% accuracy on the validation set. This is just a lower bound - if you are careful it should be possible to get accuracies much higher than that! Extra credit points will be awarded for particularly high-scoring models or unique approaches.\n",
        "\n",
        "You should use the space below to experiment and train your network. \n",
        "\n"
      ]
    },
    {
      "cell_type": "code",
      "metadata": {
        "id": "EkBshPcykim3",
        "colab_type": "code",
        "outputId": "437d7f0d-916a-4569-ec7b-e351e35bed24",
        "colab": {
          "base_uri": "https://localhost:8080/",
          "height": 1000
        }
      },
      "source": [
        "###########3rd TODO (6 points, must submit the results to Kaggle) ##############\n",
        "# Train your model here, and make sure the output of this cell is the accuracy of your best model on the \n",
        "# train, val, and test sets. Here's some code to get you started. The output of this cell should be the training\n",
        "# and validation accuracy on your best model (measured by validation accuracy).\n",
        "model = nn.Sequential(\n",
        "                nn.BatchNorm2d(3),\n",
        "                nn.Conv2d(3, 8, kernel_size=2, stride=1,padding=3),\n",
        "                nn.ReLU(inplace=True),\n",
        "                nn.MaxPool2d(kernel_size=2,stride=2),\n",
        "                nn.BatchNorm2d(8),\n",
        "                nn.Conv2d(8, 32, kernel_size=2, stride=1,padding=3),\n",
        "                nn.ReLU(inplace=True),\n",
        "                nn.MaxPool2d(kernel_size=2,stride=2),\n",
        "                nn.BatchNorm2d(32),\n",
        "                nn.Conv2d(32, 64, kernel_size=2, stride=1,padding=3),\n",
        "                nn.ReLU(inplace=True),\n",
        "                nn.MaxPool2d(kernel_size=2,stride=2),\n",
        "                nn.BatchNorm2d(64),\n",
        "                nn.Conv2d(64, 128, kernel_size=2, stride=1,padding=3),\n",
        "                nn.ReLU(inplace=True),\n",
        "                nn.MaxPool2d(kernel_size=2,stride=2),\n",
        "                nn.Dropout2d(p=0.2),\n",
        "                Flatten(),\n",
        "                nn.Linear(8192, 100),\n",
        "                nn.BatchNorm1d(100),\n",
        "                nn.Linear(100, 10),\n",
        "                nn.LogSoftmax()\n",
        "            )\n",
        "\n",
        "loss_fn =  nn.CrossEntropyLoss().type(dtype)\n",
        "optimizer = optim.Adam(model.parameters(),lr=1e-4)\n",
        "\n",
        "train(model, loss_fn, optimizer,image_dataloader_train, num_epochs=10) \n",
        "check_accuracy(model, image_dataloader_val)"
      ],
      "execution_count": 0,
      "outputs": [
        {
          "output_type": "stream",
          "text": [
            "Starting epoch 1 / 10\n"
          ],
          "name": "stdout"
        },
        {
          "output_type": "stream",
          "text": [
            "/usr/local/lib/python3.6/dist-packages/torch/nn/modules/container.py:92: UserWarning: Implicit dimension choice for log_softmax has been deprecated. Change the call to include dim=X as an argument.\n",
            "  input = module(input)\n"
          ],
          "name": "stderr"
        },
        {
          "output_type": "stream",
          "text": [
            "t = 100, loss = 0.4929\n",
            "t = 200, loss = 0.3571\n",
            "t = 300, loss = 0.3974\n",
            "t = 400, loss = 0.2327\n",
            "t = 500, loss = 0.2663\n",
            "t = 600, loss = 0.1264\n",
            "t = 700, loss = 0.1384\n",
            "Starting epoch 2 / 10\n",
            "t = 100, loss = 0.0791\n",
            "t = 200, loss = 0.0602\n",
            "t = 300, loss = 0.1766\n",
            "t = 400, loss = 0.1065\n",
            "t = 500, loss = 0.1063\n",
            "t = 600, loss = 0.0453\n",
            "t = 700, loss = 0.0411\n",
            "Starting epoch 3 / 10\n",
            "t = 100, loss = 0.0329\n",
            "t = 200, loss = 0.0515\n",
            "t = 300, loss = 0.0261\n",
            "t = 400, loss = 0.0278\n",
            "t = 500, loss = 0.0175\n",
            "t = 600, loss = 0.0164\n",
            "t = 700, loss = 0.0442\n",
            "Starting epoch 4 / 10\n",
            "t = 100, loss = 0.0515\n",
            "t = 200, loss = 0.0469\n",
            "t = 300, loss = 0.0089\n",
            "t = 400, loss = 0.0209\n",
            "t = 500, loss = 0.0237\n",
            "t = 600, loss = 0.0133\n",
            "t = 700, loss = 0.0071\n",
            "Starting epoch 5 / 10\n",
            "t = 100, loss = 0.0322\n",
            "t = 200, loss = 0.0067\n",
            "t = 300, loss = 0.0174\n",
            "t = 400, loss = 0.0124\n",
            "t = 500, loss = 0.0111\n",
            "t = 600, loss = 0.0345\n",
            "t = 700, loss = 0.0128\n",
            "Starting epoch 6 / 10\n",
            "t = 100, loss = 0.0060\n",
            "t = 200, loss = 0.0103\n",
            "t = 300, loss = 0.0091\n",
            "t = 400, loss = 0.0181\n",
            "t = 500, loss = 0.0051\n",
            "t = 600, loss = 0.0032\n",
            "t = 700, loss = 0.0090\n",
            "Starting epoch 7 / 10\n",
            "t = 100, loss = 0.0085\n",
            "t = 200, loss = 0.0107\n",
            "t = 300, loss = 0.0149\n",
            "t = 400, loss = 0.0037\n",
            "t = 500, loss = 0.0078\n",
            "t = 600, loss = 0.0105\n",
            "t = 700, loss = 0.0077\n",
            "Starting epoch 8 / 10\n",
            "t = 100, loss = 0.0036\n",
            "t = 200, loss = 0.0058\n",
            "t = 300, loss = 0.0042\n",
            "t = 400, loss = 0.0064\n",
            "t = 500, loss = 0.0066\n",
            "t = 600, loss = 0.0030\n",
            "t = 700, loss = 0.0046\n",
            "Starting epoch 9 / 10\n",
            "t = 100, loss = 0.0037\n",
            "t = 200, loss = 0.0025\n",
            "t = 300, loss = 0.0065\n",
            "t = 400, loss = 0.0006\n",
            "t = 500, loss = 0.0027\n",
            "t = 600, loss = 0.0132\n",
            "t = 700, loss = 0.0038\n",
            "Starting epoch 10 / 10\n",
            "t = 100, loss = 0.0029\n",
            "t = 200, loss = 0.0015\n",
            "t = 300, loss = 0.0030\n",
            "t = 400, loss = 0.0018\n",
            "t = 500, loss = 0.0023\n",
            "t = 600, loss = 0.0015\n",
            "t = 700, loss = 0.0174\n",
            "Got 4232 / 6690 correct (63.26)\n"
          ],
          "name": "stdout"
        }
      ]
    },
    {
      "cell_type": "markdown",
      "metadata": {
        "id": "Jsq5u4ZXkim6",
        "colab_type": "text"
      },
      "source": [
        "### Describe what you did \n",
        "\n",
        "In the cell below you should write an explanation of what you did, any additional features that you implemented, and any visualizations or graphs that you make in the process of training and evaluating your network."
      ]
    },
    {
      "cell_type": "markdown",
      "metadata": {
        "id": "5BorliZPkim6",
        "colab_type": "text"
      },
      "source": [
        "Tell us here!\n",
        " As mentioned in the comments below I have tried to implement the following architecture based on \n",
        "\n",
        " [conv-relu-pool]xN -> [affine]xM -> [softmax or SVM]\n",
        "\n",
        " So here the N = 4 and M =2.\n",
        "\n",
        "The architecture used is:\n",
        "1. Started with the BAtch Normalisation of the input.\n",
        "2. 2x2 Convolutional Layer with 8 filters with stride of 1 and pixel padding of 3.\n",
        "3. ReLU Activation Layer\n",
        "4. 2x2 Max Pooling layer with a stride of 2.\n",
        "5. 2x2 Convolutional Layer with 32 filters with stride of 1 and pixel padding of 3.\n",
        "6. ReLU Activation Layer\n",
        "7. 2x2 Max Pooling layer with a stride of 2\n",
        "8. 4x4 Convolutional Layer with 32 filters with stride of 1 and pixel padding of 3.\n",
        "9. ReLU Activation Layer\n",
        "10. 2x2 Max Pooling layer with a stride of 2\n",
        "11. 4x4 Convolutional Layer with 32 filters with stride of 2 and pixel padding of 3.\n",
        "12. ReLU Activation Layer\n",
        "13. 2x2 Max Pooling layer with a stride of 2\n",
        "14. Do the Batch Normalization before the start of each Convolutional Layer.\n",
        "15. Dropout Layer with a probability of 0.2.\n",
        "16. Flatten the feature map.\n",
        "17. Affine layer to map input units to 10 outputs.\n",
        "18. Finally a Softmax CLassification Layer is used. \n",
        "\n",
        "Batch Normalisation has been done to increase the accuracy of the model. ReLu Activation Layer has been added to increase the accuracy of the model.\n",
        "Max Pooling Layer is a sample-based discretization process. Its objective is to down-sample an input representation and reduce its dimensionality to alow calculations made on the features. \n",
        "\n",
        "Observation- As the layer was increased the accuuracy of the model too increases. After the convolution, 1 Relu Activation and Maxpol is done followed by the other convolution. This 2D Convolution is then followed by Linear Layer along with the Softmax Classification.\n",
        "Once the model with the folowing hyperpaprameter values gave a good result.\n",
        "\n",
        "DropOut layer has been used to avoid overfitting the model on the training data.\n",
        "\n",
        "I also ran it for 10 epochs to get a better accuracy. For just 1 epoch with the following parameter values the accuracy was about 54%. As running it for many epochs takes time I have only run for 10 epochs.\n",
        "\n",
        "Obervation - AS the Kernal size decreases I saw that I got a better accuracy. I started from Kernal size= 4 where I got the accuracy around 65%. I even tried with a lesser Kernel size - i.e. 2 and got a better result.\n",
        "\n",
        "Optimizer used - I compared the values got from 2 optimizer - ADAM and RMSProp. I got a better accuracy when I used Adam Optimizer.\n"
      ]
    },
    {
      "cell_type": "markdown",
      "metadata": {
        "id": "OEGCO0mGkim7",
        "colab_type": "text"
      },
      "source": [
        "### Testing the model and submit on Kaggle\n",
        "Testing the model on the testing set and save the results as a .csv file. \n",
        "Please submitted the results.csv file generated by predict_on_test() to Kaggle(https://www.kaggle.com/c/cse512springhw3) to see how well your network performs on the test set. \n",
        "#######5th TODO (submit the result to Kaggle, the highest 3 entries get extra 10 points )###############"
      ]
    },
    {
      "cell_type": "code",
      "metadata": {
        "id": "fG49zJzdkim8",
        "colab_type": "code",
        "outputId": "e90ff0e7-7892-4032-d250-bce1e6ebb06d",
        "colab": {
          "base_uri": "https://localhost:8080/",
          "height": 87
        }
      },
      "source": [
        "def predict_on_test(model, loader):\n",
        "    '''\n",
        "    if loader.dataset.train:\n",
        "        print('Checking accuracy on validation set')\n",
        "    else:\n",
        "        print('Checking accuracy on test set')  \n",
        "    '''\n",
        "    num_correct = 0\n",
        "    num_samples = 0\n",
        "    model.eval() # Put the model in test mode (the opposite of model.train(), essentially)\n",
        "    results=open('CNN_1.csv','w')\n",
        "    count=0\n",
        "    results.write('Id'+','+'Class'+'\\n')\n",
        "    for t, sample in enumerate(loader):\n",
        "        x_var = Variable(sample['image'])\n",
        "        scores = model(x_var)\n",
        "        _, preds = scores.data.max(1)\n",
        "        for i in range(len(preds)):\n",
        "            results.write(str(count)+','+str(preds[i]).split('(')[1].split(')')[0]+'\\n')\n",
        "            count+=1\n",
        "    results.close()\n",
        "    return count\n",
        "    \n",
        "count=predict_on_test(model, image_dataloader_test)\n",
        "print(count)"
      ],
      "execution_count": 0,
      "outputs": [
        {
          "output_type": "stream",
          "text": [
            "/usr/local/lib/python3.6/dist-packages/torch/nn/modules/container.py:92: UserWarning: Implicit dimension choice for log_softmax has been deprecated. Change the call to include dim=X as an argument.\n",
            "  input = module(input)\n"
          ],
          "name": "stderr"
        },
        {
          "output_type": "stream",
          "text": [
            "9810\n"
          ],
          "name": "stdout"
        }
      ]
    },
    {
      "cell_type": "markdown",
      "metadata": {
        "id": "gojKr6H0kinD",
        "colab_type": "text"
      },
      "source": [
        "### GPU! (This part is optional, 0 points)\n",
        "\n",
        "If you have access to GPU, you can make the code run on GPU, it would be much faster. \n",
        "\n",
        "Now, we're going to switch the dtype of the model and our data to the GPU-friendly tensors, and see what happens... everything is the same, except we are casting our model and input tensors as this new dtype instead of the old one.\n",
        "\n",
        "If this returns false, or otherwise fails in a not-graceful way (i.e., with some error message), you may not have an NVIDIA GPU available on your machine. "
      ]
    },
    {
      "cell_type": "code",
      "metadata": {
        "id": "nx_8-bDUkinE",
        "colab_type": "code",
        "colab": {}
      },
      "source": [
        "# Verify that CUDA is properly configured and you have a GPU available\n",
        "\n",
        "torch.cuda.is_available()"
      ],
      "execution_count": 0,
      "outputs": []
    },
    {
      "cell_type": "code",
      "metadata": {
        "id": "qd19oDZzkinG",
        "colab_type": "code",
        "colab": {}
      },
      "source": [
        "import copy\n",
        "gpu_dtype = torch.cuda.FloatTensor\n",
        "\n",
        "fixed_model_gpu = copy.deepcopy(fixed_model_base)#.type(gpu_dtype)\n",
        "fixed_model_gpu.cuda()\n",
        "x_gpu = torch.randn(4, 3, 64, 64).cuda()#.type(gpu_dtype)\n",
        "x_var_gpu = Variable(x_gpu)#type(gpu_dtype)) # Construct a PyTorch Variable out of your input data\n",
        "ans = fixed_model_gpu(x_var_gpu)        # Feed it through the model! \n",
        "\n",
        "# Check to make sure what comes out of your model\n",
        "# is the right dimensionality... this should be True\n",
        "# if you've done everything correctly\n",
        "np.array_equal(np.array(ans.size()), np.array([4, 10]))\n"
      ],
      "execution_count": 0,
      "outputs": []
    },
    {
      "cell_type": "markdown",
      "metadata": {
        "id": "Q4gsqJpakinJ",
        "colab_type": "text"
      },
      "source": [
        "Run the following cell to evaluate the performance of the forward pass running on the CPU:"
      ]
    },
    {
      "cell_type": "code",
      "metadata": {
        "id": "M9RH8SlYkinK",
        "colab_type": "code",
        "colab": {}
      },
      "source": [
        "%%timeit \n",
        "ans = fixed_model(x_var)"
      ],
      "execution_count": 0,
      "outputs": []
    },
    {
      "cell_type": "markdown",
      "metadata": {
        "id": "mS9ZHu5ikinM",
        "colab_type": "text"
      },
      "source": [
        "... and now the GPU:"
      ]
    },
    {
      "cell_type": "code",
      "metadata": {
        "id": "CXo7XPCykinN",
        "colab_type": "code",
        "colab": {}
      },
      "source": [
        "%%timeit \n",
        "torch.cuda.synchronize() # Make sure there are no pending GPU computations\n",
        "ans = fixed_model_gpu(x_var_gpu)        # Feed it through the model! \n",
        "torch.cuda.synchronize() # Make sure there are no pending GPU computations"
      ],
      "execution_count": 0,
      "outputs": []
    },
    {
      "cell_type": "markdown",
      "metadata": {
        "id": "pHvTgcdykinQ",
        "colab_type": "text"
      },
      "source": [
        "You should observe that even a simple forward pass like this is significantly faster on the GPU. So for the rest of the assignment (and when you go train your models in assignment 3 and your project!), you should use the GPU datatype for your model and your tensors: as a reminder that is *torch.cuda.FloatTensor* (in our notebook here as *gpu_dtype*)"
      ]
    },
    {
      "cell_type": "markdown",
      "metadata": {
        "id": "xCVe55-wkinR",
        "colab_type": "text"
      },
      "source": [
        "Let's make the loss function and training variables to GPU friendly format by '.cuda()'"
      ]
    },
    {
      "cell_type": "code",
      "metadata": {
        "id": "A6cZOqNhkinS",
        "colab_type": "code",
        "colab": {}
      },
      "source": [
        "loss_fn = nn.CrossEntropyLoss().cuda()\n",
        "optimizer = optim.RMSprop(fixed_model_gpu.parameters(), lr=1e-4)"
      ],
      "execution_count": 0,
      "outputs": []
    },
    {
      "cell_type": "code",
      "metadata": {
        "id": "xrW8_ZHCkinU",
        "colab_type": "code",
        "colab": {}
      },
      "source": [
        "def train(model, loss_fn, optimizer, dataloader, num_epochs = 1):\n",
        "    for epoch in range(num_epochs):\n",
        "        print('Starting epoch %d / %d' % (epoch + 1, num_epochs))\n",
        "        model.train()\n",
        "        for t, sample in enumerate(dataloader):\n",
        "            x_var = Variable(sample['image'].cuda())\n",
        "            y_var = Variable(sample['Label'].cuda().long())\n",
        "\n",
        "            scores = model(x_var)\n",
        "            \n",
        "            loss = loss_fn(scores, y_var)\n",
        "            if (t + 1) % print_every == 0:\n",
        "                print('t = %d, loss = %.4f' % (t + 1, loss.data[0]))\n",
        "\n",
        "            optimizer.zero_grad()\n",
        "            loss.backward()\n",
        "            optimizer.step()\n",
        "\n",
        "def check_accuracy(model, loader):\n",
        "    '''\n",
        "    if loader.dataset.train:\n",
        "        print('Checking accuracy on validation set')\n",
        "    else:\n",
        "        print('Checking accuracy on test set')  \n",
        "    '''\n",
        "    num_correct = 0\n",
        "    num_samples = 0\n",
        "    model.eval() # Put the model in test mode (the opposite of model.train(), essentially)\n",
        "    for t, sample in enumerate(loader):\n",
        "        x_var = Variable(sample['image'].cuda())\n",
        "        y_var = sample['Label'].cuda()\n",
        "        y_var=y_var.cpu()\n",
        "        scores = model(x_var)\n",
        "        _, preds = scores.data.cpu().max(1)\n",
        "        #print(preds)\n",
        "        #print(y_var)\n",
        "        num_correct += (preds.numpy() == y_var.numpy()).sum()\n",
        "        num_samples += preds.size(0)\n",
        "    acc = float(num_correct) / num_samples\n",
        "    print('Got %d / %d correct (%.2f)' % (num_correct, num_samples, 100 * acc))"
      ],
      "execution_count": 0,
      "outputs": []
    },
    {
      "cell_type": "markdown",
      "metadata": {
        "id": "4iqg6gwCkinW",
        "colab_type": "text"
      },
      "source": [
        "Run on GPU!"
      ]
    },
    {
      "cell_type": "code",
      "metadata": {
        "id": "4XU96uDgkinX",
        "colab_type": "code",
        "colab": {}
      },
      "source": [
        "torch.cuda.random.manual_seed(12345)\n",
        "\n",
        "fixed_model_gpu.apply(reset) \n",
        "fixed_model_gpu.train() \n",
        "train(fixed_model_gpu, loss_fn, optimizer,image_dataloader_train, num_epochs=1) \n",
        "check_accuracy(fixed_model_gpu, image_dataloader_train)# check accuracy on the training set\n"
      ],
      "execution_count": 0,
      "outputs": []
    },
    {
      "cell_type": "markdown",
      "metadata": {
        "id": "jC4jmL_Fkina",
        "colab_type": "text"
      },
      "source": [
        "### 3D Convolution on video clips (15 points+10 extra points)\n",
        "3D convolution is for videos, it has one more dimension than 2d convolution. You can find the document for 3D convolution here http://pytorch.org/docs/master/nn.html#torch.nn.Conv3dIn. In our dataset, each clip is a video of 3 frames. Lets classify the each clip rather than each image using 3D convolution.\n",
        "We offer the data loader, the train_3d and check_accuracy"
      ]
    },
    {
      "cell_type": "code",
      "metadata": {
        "id": "7Wllmp4Nkinb",
        "colab_type": "code",
        "outputId": "97f5c401-82ec-49d2-bdf0-ae948176d6f6",
        "colab": {
          "base_uri": "https://localhost:8080/",
          "height": 521
        }
      },
      "source": [
        "class ActionClipDataset(Dataset):\n",
        "    \"\"\"Action Landmarks dataset.\"\"\"\n",
        "\n",
        "    def __init__(self,  root_dir,labels=[], transform=None):\n",
        "        \"\"\"\n",
        "        Args:\n",
        "            csv_file (string): Path to the csv file with annotations.\n",
        "            root_dir (string): Directory with all the images.\n",
        "            transform (callable, optional): Optional transform to be applied\n",
        "                on a sample.\n",
        "        \"\"\"\n",
        "        \n",
        "        self.root_dir = root_dir\n",
        "        self.transform = transform\n",
        "        self.length=len(os.listdir(self.root_dir))\n",
        "        self.labels=labels\n",
        "\n",
        "    def __len__(self):\n",
        "        return self.length\n",
        "\n",
        "    def __getitem__(self, idx):\n",
        "        \n",
        "        folder=idx+1\n",
        "        folder=format(folder,'05d')\n",
        "        clip=[]\n",
        "        if len(self.labels)!=0:\n",
        "            Label=self.labels[idx][0]-1\n",
        "        for i in range(3):\n",
        "            imidx=i+1\n",
        "            imgname=str(imidx)+'.jpg'\n",
        "            img_path = os.path.join(self.root_dir,\n",
        "                                    folder,imgname)\n",
        "            image = Image.open(img_path)\n",
        "            image=np.array(image)\n",
        "            clip.append(image)\n",
        "        if self.transform:\n",
        "            clip=np.asarray(clip)\n",
        "            clip=np.transpose(clip, (0,3,1,2))\n",
        "            clip = torch.from_numpy(np.asarray(clip))\n",
        "        if len(self.labels)!=0:\n",
        "            sample={'clip':clip,'Label':Label,'folder':folder}\n",
        "        else:\n",
        "            sample={'clip':clip,'folder':folder}\n",
        "        return sample\n",
        "\n",
        "clip_dataset=ActionClipDataset(root_dir='/content/gdrive/My Drive/hw6(2).zip (Unzipped Files)/Question2/data/trainClips/',\\\n",
        "                               labels=label_train,transform=T.ToTensor())#/home/tqvinh/Study/CSE512/cse512-s18/hw2data/trainClips/\n",
        "for i in range(10):\n",
        "    sample=clip_dataset[i]\n",
        "    print(sample['clip'].shape)\n",
        "    print(sample['Label'])\n",
        "    print(sample['folder'])"
      ],
      "execution_count": 0,
      "outputs": [
        {
          "output_type": "stream",
          "text": [
            "torch.Size([3, 3, 64, 64])\n",
            "0.0\n",
            "00001\n",
            "torch.Size([3, 3, 64, 64])\n",
            "0.0\n",
            "00002\n",
            "torch.Size([3, 3, 64, 64])\n",
            "0.0\n",
            "00003\n",
            "torch.Size([3, 3, 64, 64])\n",
            "0.0\n",
            "00004\n",
            "torch.Size([3, 3, 64, 64])\n",
            "0.0\n",
            "00005\n",
            "torch.Size([3, 3, 64, 64])\n",
            "0.0\n",
            "00006\n",
            "torch.Size([3, 3, 64, 64])\n",
            "0.0\n",
            "00007\n",
            "torch.Size([3, 3, 64, 64])\n",
            "0.0\n",
            "00008\n",
            "torch.Size([3, 3, 64, 64])\n",
            "0.0\n",
            "00009\n",
            "torch.Size([3, 3, 64, 64])\n",
            "0.0\n",
            "00010\n"
          ],
          "name": "stdout"
        }
      ]
    },
    {
      "cell_type": "code",
      "metadata": {
        "id": "XJBf8xpOkind",
        "colab_type": "code",
        "outputId": "e1dc1bd1-fdbe-415d-c81f-57446abcfd7c",
        "colab": {
          "base_uri": "https://localhost:8080/",
          "height": 386
        }
      },
      "source": [
        "clip_dataloader = DataLoader(clip_dataset, batch_size=4,\n",
        "                        shuffle=True, num_workers=4)\n",
        "\n",
        "\n",
        "for i,sample in enumerate(clip_dataloader):\n",
        "    print(i,sample['clip'].shape,sample['folder'],sample['Label'])\n",
        "    if i>20: \n",
        "        break"
      ],
      "execution_count": 0,
      "outputs": [
        {
          "output_type": "stream",
          "text": [
            "0 torch.Size([4, 3, 3, 64, 64]) ['00499', '04461', '04972', '05024'] tensor([0., 5., 6., 6.])\n",
            "1 torch.Size([4, 3, 3, 64, 64]) ['05009', '03716', '03375', '02321'] tensor([6., 4., 3., 2.])\n",
            "2 torch.Size([4, 3, 3, 64, 64]) ['06094', '05685', '03215', '02271'] tensor([7., 7., 3., 2.])\n",
            "3 torch.Size([4, 3, 3, 64, 64]) ['01834', '02778', '07157', '00906'] tensor([2., 3., 9., 0.])\n",
            "4 torch.Size([4, 3, 3, 64, 64]) ['04044', '02749', '07494', '01703'] tensor([4., 3., 9., 1.])\n",
            "5 torch.Size([4, 3, 3, 64, 64]) ['05858', '02323', '02115', '01819'] tensor([7., 2., 2., 1.])\n",
            "6 torch.Size([4, 3, 3, 64, 64]) ['04844', '00538', '07704', '05879'] tensor([5., 0., 9., 7.])\n",
            "7 torch.Size([4, 3, 3, 64, 64]) ['04521', '07763', '05529', '03686'] tensor([5., 9., 6., 4.])\n",
            "8 torch.Size([4, 3, 3, 64, 64]) ['07378', '04595', '06484', '04365'] tensor([9., 5., 8., 5.])\n",
            "9 torch.Size([4, 3, 3, 64, 64]) ['02615', '06525', '00533', '06884'] tensor([2., 8., 0., 8.])\n",
            "10 torch.Size([4, 3, 3, 64, 64]) ['03733', '01633', '07767', '06447'] tensor([4., 1., 9., 7.])\n",
            "11 torch.Size([4, 3, 3, 64, 64]) ['03380', '01806', '04453', '04487'] tensor([3., 1., 5., 5.])\n",
            "12 torch.Size([4, 3, 3, 64, 64]) ['05301', '02472', '07218', '04194'] tensor([6., 2., 9., 5.])\n",
            "13 torch.Size([4, 3, 3, 64, 64]) ['02717', '07133', '04215', '06756'] tensor([3., 9., 5., 8.])\n",
            "14 torch.Size([4, 3, 3, 64, 64]) ['03477', '05922', '00208', '00828'] tensor([3., 7., 0., 0.])\n",
            "15 torch.Size([4, 3, 3, 64, 64]) ['03320', '03924', '06302', '04951'] tensor([3., 4., 7., 5.])\n",
            "16 torch.Size([4, 3, 3, 64, 64]) ['07154', '07510', '00071', '06666'] tensor([9., 9., 0., 8.])\n",
            "17 torch.Size([4, 3, 3, 64, 64]) ['05838', '07065', '03184', '06322'] tensor([7., 8., 3., 7.])\n",
            "18 torch.Size([4, 3, 3, 64, 64]) ['05417', '02410', '00978', '06467'] tensor([6., 2., 1., 7.])\n",
            "19 torch.Size([4, 3, 3, 64, 64]) ['02691', '00603', '04722', '05745'] tensor([3., 0., 5., 7.])\n",
            "20 torch.Size([4, 3, 3, 64, 64]) ['00539', '06125', '05215', '06878'] tensor([0., 7., 6., 8.])\n",
            "21 torch.Size([4, 3, 3, 64, 64]) ['00155', '00242', '05646', '00468'] tensor([0., 0., 7., 0.])\n"
          ],
          "name": "stdout"
        }
      ]
    },
    {
      "cell_type": "code",
      "metadata": {
        "id": "2SylcAPWkinh",
        "colab_type": "code",
        "colab": {}
      },
      "source": [
        "clip_dataset_train=ActionClipDataset(root_dir='/content/gdrive/My Drive/hw6(2).zip (Unzipped Files)/Question2/data/trainClips/',labels=label_train,transform=T.ToTensor())\n",
        "\n",
        "clip_dataloader_train = DataLoader(clip_dataset_train, batch_size=16,\n",
        "                        shuffle=True, num_workers=4)\n",
        "clip_dataset_val=ActionClipDataset(root_dir='/content/gdrive/My Drive/hw6(2).zip (Unzipped Files)/Question2/data/valClips/',labels=label_val,transform=T.ToTensor())\n",
        "\n",
        "clip_dataloader_val = DataLoader(clip_dataset_val, batch_size=16,\n",
        "                        shuffle=True, num_workers=4)\n",
        "clip_dataset_test=ActionClipDataset(root_dir='/content/gdrive/My Drive/hw6(2).zip (Unzipped Files)/Question2/data/testClips/',labels=[],transform=T.ToTensor())\n",
        "\n",
        "clip_dataloader_test = DataLoader(clip_dataset_test, batch_size=16,\n",
        "                        shuffle=False, num_workers=4)"
      ],
      "execution_count": 0,
      "outputs": []
    },
    {
      "cell_type": "markdown",
      "metadata": {
        "id": "2-p7djQlkinl",
        "colab_type": "text"
      },
      "source": [
        "Write the Flatten for 3d covolution feature maps."
      ]
    },
    {
      "cell_type": "code",
      "metadata": {
        "id": "0QONO_BMkinm",
        "colab_type": "code",
        "colab": {}
      },
      "source": [
        "class Flatten3d(nn.Module):\n",
        "    def forward(self, x):\n",
        "        N, C, D, H, W = x.size()\n",
        "        return x.view(N, -1)\n",
        "        "
      ],
      "execution_count": 0,
      "outputs": []
    },
    {
      "cell_type": "markdown",
      "metadata": {
        "id": "wKlUOJwhkino",
        "colab_type": "text"
      },
      "source": [
        "Design a network using 3D convolution on videos for video classification."
      ]
    },
    {
      "cell_type": "code",
      "metadata": {
        "id": "h6lZTN5Ckinp",
        "colab_type": "code",
        "outputId": "3d379aba-1506-451b-e295-93d2c3a7fa28",
        "colab": {
          "base_uri": "https://localhost:8080/",
          "height": 87
        }
      },
      "source": [
        "fixed_model_3d = nn.Sequential(\n",
        "                nn.BatchNorm3d(3),\n",
        "                nn.Conv3d(3, 8, kernel_size=(1,2,2), stride=1,padding=(1,3,3)),\n",
        "                nn.ReLU(inplace=True),\n",
        "                nn.MaxPool3d(kernel_size=(1,2,2),stride=(1,2,2)),\n",
        "                nn.BatchNorm3d(8),\n",
        "                nn.Conv3d(8, 32, kernel_size=(1,2,2), stride=1,padding=(1,3,3)),\n",
        "                nn.ReLU(inplace=True),\n",
        "                nn.MaxPool3d(kernel_size=(1,2,2),stride=(1,2,2)),\n",
        "                nn.BatchNorm3d(32),\n",
        "                nn.Conv3d(32, 64, kernel_size=(1,2,2), stride=1,padding=(1,3,3)),\n",
        "                nn.ReLU(inplace=True),\n",
        "                nn.MaxPool3d(kernel_size=(1,2,2),stride=(1,2,2)),\n",
        "                nn.BatchNorm3d(64),\n",
        "                nn.Conv3d(64, 128, kernel_size=(1,2,2), stride=1,padding=(1,3,3)),\n",
        "                nn.ReLU(inplace=True),\n",
        "                nn.MaxPool3d(kernel_size=(1,2,2),stride=(1,2,2)),\n",
        "\n",
        "                \n",
        "                nn.Dropout3d(p=0.2),\n",
        "                Flatten3d(),\n",
        "\n",
        "                nn.Linear(90112, 100),\n",
        "                nn.BatchNorm1d(100),\n",
        "                nn.Linear(100, 10),\n",
        "                nn.LogSoftmax()\n",
        "    \n",
        ")\n",
        "\n",
        "fixed_model_3d = fixed_model_3d.type(dtype)\n",
        "x = torch.randn(32,3, 3, 64, 64).type(dtype)\n",
        "x_var = Variable(x).type(dtype) # Construct a PyTorch Variable out of your input data\n",
        "ans = fixed_model_3d(x_var) \n",
        "np.array_equal(np.array(ans.size()), np.array([32, 10]))\n"
      ],
      "execution_count": 0,
      "outputs": [
        {
          "output_type": "stream",
          "text": [
            "/usr/local/lib/python3.6/dist-packages/torch/nn/modules/container.py:92: UserWarning: Implicit dimension choice for log_softmax has been deprecated. Change the call to include dim=X as an argument.\n",
            "  input = module(input)\n"
          ],
          "name": "stderr"
        },
        {
          "output_type": "execute_result",
          "data": {
            "text/plain": [
              "True"
            ]
          },
          "metadata": {
            "tags": []
          },
          "execution_count": 124
        }
      ]
    },
    {
      "cell_type": "markdown",
      "metadata": {
        "id": "ZF0h635Rkins",
        "colab_type": "text"
      },
      "source": [
        "### Describe what you did (4 points)\n",
        "\n",
        "In the cell below you should write an explanation of what you did, any additional features that you implemented, and any visualizations or graphs that you make in the process of training and evaluating your network.\n",
        "\n",
        "Tell us here!\n",
        " As mentioned in the comments below I have tried to implement the following the same architecture as above. The architecture is: \n",
        "\n",
        " [conv-relu-pool]xN -> [affine]xM -> [softmax or SVM]\n",
        "\n",
        " So here the N = 4 and M =2.\n",
        "\n",
        "The architecture used is:\n",
        "1. Started with the BAtch Normalisation of the input.\n",
        "2. 1x2x2 Convolutional Layer with 8 filters with stride of 1 and pixel padding of 1x3x3.\n",
        "3. ReLU Activation Layer\n",
        "4. 2x2 Max Pooling layer with a stride of 3.\n",
        "5. 1x2x2 Convolutional Layer with 32 filters with stride of 1 and pixel padding of 1x3x3.\n",
        "6. ReLU Activation Layer\n",
        "7. 2x2 Max Pooling layer with a stride of 1x2x2\n",
        "8. 1x2x2 Convolutional Layer with 32 filters with stride of 1 and pixel padding of 1x3x3.\n",
        "9. ReLU Activation Layer\n",
        "10. 2x2 Max Pooling layer with a stride of 1x2x2\n",
        "11. 2x2 Convolutional Layer with 32 filters with stride of 1 and pixel padding of 1x3x3.\n",
        "12. ReLU Activation Layer\n",
        "13. 2x2 Max Pooling layer with a stride of 1x2x2\n",
        "14. Do the Batch Normalization before the start of each Convolutional Layer.\n",
        "15. Dropout Layer with a probability of 0.2.\n",
        "16. Flatten the feature map.\n",
        "17. Affine layer to map input units to 10 outputs.\n",
        "18. Finally a Softmax CLassification Layer is used. \n",
        "\n",
        "Batch Normalisation has been done to increase the accuracy of the model. ReLu Activation Layer has been added to increase the accuracy of the model.This I felt will decrease the loss by a good extent. I tried to do it without adding Normalization at every layer, I got a model with less accuracy. Once I added the Normalization I could see a steady increase in the accuracy. \n",
        "\n",
        "Max Pooling Layer is a sample-based discretization process. Its objective is to down-sample an input representation and reduce its dimensionality to alow calculations made on the features. \n",
        "\n",
        "Observation- As the layer was increased the accuuracy of the model too increases. After the convolution, 1 Relu Activation and Maxpol is done followed by the other convolution. This 2D Convolution is then followed by Linear Layer along with the Softmax Classification.\n",
        "Once the model with the folowing hyperpaprameter values gave a good result.\n",
        "\n",
        "DropOut layer has been used to avoid overfitting the model on the training data.\n",
        "\n",
        "I also ran it for 10 epochs to get a better accuracy. For just 1 epoch with the following parameter values the accuracy was about 54%. As running it for many epochs takes time I have only run for 10 epochs.\n",
        "\n",
        "Obervation - AS the Kernal size decreases I saw that I got a better accuracy. I started from Kernal size= 1x4x4 where I got the accuracy around 65%. I even tried with a lesser Kernel size - i.e. 1x2x2 and got a better result.\n",
        "\n",
        "Optimizer used - I compared the values got from 2 optimizer - ADAM and RMSProp. I got a better accuracy when I used Adam Optimizer.\n"
      ]
    },
    {
      "cell_type": "markdown",
      "metadata": {
        "id": "2dc0X3Cmkint",
        "colab_type": "text"
      },
      "source": [
        "### 8th TODO Tell us here:"
      ]
    },
    {
      "cell_type": "code",
      "metadata": {
        "id": "dnJsH-Fokinu",
        "colab_type": "code",
        "colab": {}
      },
      "source": [
        "loss_fn = nn.CrossEntropyLoss().type(dtype)\n",
        "optimizer = optim.Adam(fixed_model_3d.parameters(), lr=1e-4)\n"
      ],
      "execution_count": 0,
      "outputs": []
    },
    {
      "cell_type": "code",
      "metadata": {
        "id": "6Bd2qla8kinw",
        "colab_type": "code",
        "colab": {}
      },
      "source": [
        "def train_3d(model, loss_fn, optimizer,dataloader,num_epochs = 1):\n",
        "    for epoch in range(num_epochs):\n",
        "        print('Starting epoch %d / %d' % (epoch + 1, num_epochs))\n",
        "        model.train()\n",
        "        for t, sample in enumerate(dataloader):\n",
        "            x_var = Variable(sample['clip'].type(dtype))\n",
        "            y_var = Variable(sample['Label'].type(dtype).long())\n",
        "\n",
        "            scores = model(x_var)\n",
        "            \n",
        "            loss = loss_fn(scores, y_var)\n",
        "            if (t + 1) % print_every == 0:\n",
        "                print('t = %d, loss = %.4f' % (t + 1, loss.data))\n",
        "\n",
        "            optimizer.zero_grad()\n",
        "            loss.backward()\n",
        "            optimizer.step()\n",
        "\n",
        "def check_accuracy_3d(model, loader):\n",
        "    '''\n",
        "    if loader.dataset.train:\n",
        "        print('Checking accuracy on validation set')\n",
        "    else:\n",
        "        print('Checking accuracy on test set')  \n",
        "    '''\n",
        "    num_correct = 0\n",
        "    num_samples = 0\n",
        "    model.eval() # Put the model in test mode (the opposite of model.train(), essentially)\n",
        "    for t, sample in enumerate(loader):\n",
        "        x_var = Variable(sample['clip'].type(dtype))\n",
        "        y_var = sample['Label'].type(dtype)\n",
        "        y_var=y_var.cpu()\n",
        "        scores = model(x_var)\n",
        "        _, preds = scores.data.cpu().max(1)\n",
        "        #print(preds)\n",
        "        #print(y_var)\n",
        "        num_correct += (preds.numpy() == y_var.numpy()).sum()\n",
        "        num_samples += preds.size(0)\n",
        "    acc = float(num_correct) / num_samples\n",
        "    print('Got %d / %d correct (%.2f)' % (num_correct, num_samples, 100 * acc))"
      ],
      "execution_count": 0,
      "outputs": []
    },
    {
      "cell_type": "code",
      "metadata": {
        "id": "S9K2IQkIkiny",
        "colab_type": "code",
        "colab": {}
      },
      "source": [
        "torch.cuda.random.manual_seed(12345)\n",
        "fixed_model_3d.apply(reset) \n",
        "fixed_model_3d.train() \n",
        "train_3d(fixed_model_3d, loss_fn, optimizer,clip_dataloader_train, num_epochs=1) \n",
        "fixed_model_3d.eval() \n",
        "check_accuracy_3d(fixed_model_3d, clip_dataloader_val)"
      ],
      "execution_count": 0,
      "outputs": []
    },
    {
      "cell_type": "markdown",
      "metadata": {
        "collapsed": true,
        "id": "cXdkDuK7kin1",
        "colab_type": "text"
      },
      "source": [
        "Test your 3d convolution model on the validation set. You don't need to submit the result of this part to kaggle.  "
      ]
    },
    {
      "cell_type": "markdown",
      "metadata": {
        "collapsed": true,
        "id": "rluHWqgEkin2",
        "colab_type": "text"
      },
      "source": [
        "Test your model on the test set, predict_on_test_3d() will generate a file named 'results_3d.csv'. Please submit the csv file to kaggle https://www.kaggle.com/c/cse512springhw3video\n",
        "The highest 3 entries get extra 10 points.\n"
      ]
    },
    {
      "cell_type": "code",
      "metadata": {
        "id": "0xSwawMWkioB",
        "colab_type": "code",
        "outputId": "4248895b-8450-4272-e7fe-4e51a4b5a611",
        "colab": {
          "base_uri": "https://localhost:8080/",
          "height": 87
        }
      },
      "source": [
        "def predict_on_test_3d(model, loader):\n",
        "    '''\n",
        "    if loader.dataset.train:\n",
        "        print('Checking accuracy on validation set')\n",
        "    else:\n",
        "        print('Checking accuracy on test set')  \n",
        "    '''\n",
        "    num_correct = 0\n",
        "    num_samples = 0\n",
        "    model.eval() # Put the model in test mode (the opposite of model.train(), essentially)\n",
        "    results=open('CNNresults_3d.csv','w')\n",
        "    count=0\n",
        "    results.write('Id'+','+'Class'+'\\n')\n",
        "    for t, sample in enumerate(loader):\n",
        "        x_var = Variable(sample['clip'].type(dtype))\n",
        "        scores = model(x_var)\n",
        "        _, preds = scores.data.max(1)\n",
        "        for i in range(len(preds)):\n",
        "            results.write(str(count)+','+str(preds[i]).split('(')[1].split(')')[0]+'\\n')\n",
        "            count+=1\n",
        "    results.close()\n",
        "    return count\n",
        "    \n",
        "count=predict_on_test_3d(fixed_model_3d, clip_dataloader_test)\n",
        "print(count)"
      ],
      "execution_count": 0,
      "outputs": [
        {
          "output_type": "stream",
          "text": [
            "/usr/local/lib/python3.6/dist-packages/torch/nn/modules/container.py:92: UserWarning: Implicit dimension choice for log_softmax has been deprecated. Change the call to include dim=X as an argument.\n",
            "  input = module(input)\n"
          ],
          "name": "stderr"
        },
        {
          "output_type": "stream",
          "text": [
            "3270\n"
          ],
          "name": "stdout"
        }
      ]
    },
    {
      "cell_type": "code",
      "metadata": {
        "id": "OCE1REm_kioE",
        "colab_type": "code",
        "colab": {}
      },
      "source": [
        ""
      ],
      "execution_count": 0,
      "outputs": []
    }
  ]
}