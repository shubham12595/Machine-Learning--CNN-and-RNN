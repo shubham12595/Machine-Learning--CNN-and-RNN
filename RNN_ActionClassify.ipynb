{
  "nbformat": 4,
  "nbformat_minor": 0,
  "metadata": {
    "kernelspec": {
      "display_name": "Python 3",
      "language": "python",
      "name": "python3"
    },
    "language_info": {
      "codemirror_mode": {
        "name": "ipython",
        "version": 3
      },
      "file_extension": ".py",
      "mimetype": "text/x-python",
      "name": "python",
      "nbconvert_exporter": "python",
      "pygments_lexer": "ipython3",
      "version": "3.6.0"
    },
    "colab": {
      "name": "RNN_ActionClassify.ipynb",
      "provenance": [],
      "collapsed_sections": [],
      "toc_visible": true
    }
  },
  "cells": [
    {
      "cell_type": "markdown",
      "metadata": {
        "id": "g9gL6InhzGno",
        "colab_type": "text"
      },
      "source": [
        "# Sequence Classification using Recurrent Neural Networks(RNN)\n",
        "In this homework, you will learn how to train a recurrent neural network for human action classification. RNN is designed handle sequential data. The network can incorporate both past history and current input. [This](http://colah.github.io/posts/2015-08-Understanding-LSTMs/) is a very good tutorial. You should read it before you start."
      ]
    },
    {
      "cell_type": "code",
      "metadata": {
        "id": "7MziovnLyns3",
        "colab_type": "code",
        "colab": {
          "base_uri": "https://localhost:8080/",
          "height": 121
        },
        "outputId": "8ebccc5b-408f-46b2-d684-cdcf98f221e8"
      },
      "source": [
        "from google.colab import drive\n",
        "drive.mount('/content/drive')"
      ],
      "execution_count": 1,
      "outputs": [
        {
          "output_type": "stream",
          "text": [
            "Go to this URL in a browser: https://accounts.google.com/o/oauth2/auth?client_id=947318989803-6bn6qk8qdgf4n4g3pfee6491hc0brc4i.apps.googleusercontent.com&redirect_uri=urn%3aietf%3awg%3aoauth%3a2.0%3aoob&response_type=code&scope=email%20https%3a%2f%2fwww.googleapis.com%2fauth%2fdocs.test%20https%3a%2f%2fwww.googleapis.com%2fauth%2fdrive%20https%3a%2f%2fwww.googleapis.com%2fauth%2fdrive.photos.readonly%20https%3a%2f%2fwww.googleapis.com%2fauth%2fpeopleapi.readonly\n",
            "\n",
            "Enter your authorization code:\n",
            "··········\n",
            "Mounted at /content/drive\n"
          ],
          "name": "stdout"
        }
      ]
    },
    {
      "cell_type": "markdown",
      "metadata": {
        "id": "XFlewEI6zGnt",
        "colab_type": "text"
      },
      "source": [
        "## Setup\n",
        "Please make sure you have h5py and torchnet installed\n",
        "> pip install h5py\n",
        "\n",
        "> pip install git+https://github.com/pytorch/tnt.git@master\n"
      ]
    },
    {
      "cell_type": "code",
      "metadata": {
        "id": "5w7nw4mP5CQR",
        "colab_type": "code",
        "colab": {
          "base_uri": "https://localhost:8080/",
          "height": 67
        },
        "outputId": "249719f7-34e8-4292-f0f9-5734f8a5824a"
      },
      "source": [
        "pip install h5py"
      ],
      "execution_count": 2,
      "outputs": [
        {
          "output_type": "stream",
          "text": [
            "Requirement already satisfied: h5py in /usr/local/lib/python3.6/dist-packages (2.8.0)\n",
            "Requirement already satisfied: six in /usr/local/lib/python3.6/dist-packages (from h5py) (1.12.0)\n",
            "Requirement already satisfied: numpy>=1.7 in /usr/local/lib/python3.6/dist-packages (from h5py) (1.17.4)\n"
          ],
          "name": "stdout"
        }
      ]
    },
    {
      "cell_type": "code",
      "metadata": {
        "id": "fK2FqajK5EgZ",
        "colab_type": "code",
        "colab": {
          "base_uri": "https://localhost:8080/",
          "height": 726
        },
        "outputId": "e07c5355-3ca3-4080-bd20-041e7f6c738d"
      },
      "source": [
        "pip install git+https://github.com/pytorch/tnt.git@master"
      ],
      "execution_count": 3,
      "outputs": [
        {
          "output_type": "stream",
          "text": [
            "Collecting git+https://github.com/pytorch/tnt.git@master\n",
            "  Cloning https://github.com/pytorch/tnt.git (to revision master) to /tmp/pip-req-build-wfxpnhl2\n",
            "  Running command git clone -q https://github.com/pytorch/tnt.git /tmp/pip-req-build-wfxpnhl2\n",
            "Requirement already satisfied: torch in /usr/local/lib/python3.6/dist-packages (from torchnet==0.0.5.1) (1.3.1)\n",
            "Requirement already satisfied: six in /usr/local/lib/python3.6/dist-packages (from torchnet==0.0.5.1) (1.12.0)\n",
            "Collecting visdom\n",
            "\u001b[?25l  Downloading https://files.pythonhosted.org/packages/c9/75/e078f5a2e1df7e0d3044749089fc2823e62d029cc027ed8ae5d71fafcbdc/visdom-0.1.8.9.tar.gz (676kB)\n",
            "\u001b[K     |████████████████████████████████| 686kB 8.9MB/s \n",
            "\u001b[?25hRequirement already satisfied: numpy in /usr/local/lib/python3.6/dist-packages (from torch->torchnet==0.0.5.1) (1.17.4)\n",
            "Requirement already satisfied: scipy in /usr/local/lib/python3.6/dist-packages (from visdom->torchnet==0.0.5.1) (1.3.3)\n",
            "Requirement already satisfied: requests in /usr/local/lib/python3.6/dist-packages (from visdom->torchnet==0.0.5.1) (2.21.0)\n",
            "Requirement already satisfied: tornado in /usr/local/lib/python3.6/dist-packages (from visdom->torchnet==0.0.5.1) (4.5.3)\n",
            "Requirement already satisfied: pyzmq in /usr/local/lib/python3.6/dist-packages (from visdom->torchnet==0.0.5.1) (17.0.0)\n",
            "Collecting jsonpatch\n",
            "  Downloading https://files.pythonhosted.org/packages/86/7e/035d19a73306278673039f0805b863be8798057cc1b4008b9c8c7d1d32a3/jsonpatch-1.24-py2.py3-none-any.whl\n",
            "Collecting torchfile\n",
            "  Downloading https://files.pythonhosted.org/packages/91/af/5b305f86f2d218091af657ddb53f984ecbd9518ca9fe8ef4103a007252c9/torchfile-0.1.0.tar.gz\n",
            "Collecting websocket-client\n",
            "\u001b[?25l  Downloading https://files.pythonhosted.org/packages/29/19/44753eab1fdb50770ac69605527e8859468f3c0fd7dc5a76dd9c4dbd7906/websocket_client-0.56.0-py2.py3-none-any.whl (200kB)\n",
            "\u001b[K     |████████████████████████████████| 204kB 46.6MB/s \n",
            "\u001b[?25hRequirement already satisfied: pillow in /usr/local/lib/python3.6/dist-packages (from visdom->torchnet==0.0.5.1) (4.3.0)\n",
            "Requirement already satisfied: certifi>=2017.4.17 in /usr/local/lib/python3.6/dist-packages (from requests->visdom->torchnet==0.0.5.1) (2019.11.28)\n",
            "Requirement already satisfied: chardet<3.1.0,>=3.0.2 in /usr/local/lib/python3.6/dist-packages (from requests->visdom->torchnet==0.0.5.1) (3.0.4)\n",
            "Requirement already satisfied: idna<2.9,>=2.5 in /usr/local/lib/python3.6/dist-packages (from requests->visdom->torchnet==0.0.5.1) (2.8)\n",
            "Requirement already satisfied: urllib3<1.25,>=1.21.1 in /usr/local/lib/python3.6/dist-packages (from requests->visdom->torchnet==0.0.5.1) (1.24.3)\n",
            "Collecting jsonpointer>=1.9\n",
            "  Downloading https://files.pythonhosted.org/packages/18/b0/a80d29577c08eea401659254dfaed87f1af45272899e1812d7e01b679bc5/jsonpointer-2.0-py2.py3-none-any.whl\n",
            "Requirement already satisfied: olefile in /usr/local/lib/python3.6/dist-packages (from pillow->visdom->torchnet==0.0.5.1) (0.46)\n",
            "Building wheels for collected packages: torchnet, visdom, torchfile\n",
            "  Building wheel for torchnet (setup.py) ... \u001b[?25l\u001b[?25hdone\n",
            "  Created wheel for torchnet: filename=torchnet-0.0.5.1-cp36-none-any.whl size=30917 sha256=c2351b6746c73226532d04810161f600b5f19a19ba73966f2834a756b828309e\n",
            "  Stored in directory: /tmp/pip-ephem-wheel-cache-oryyzohg/wheels/17/05/ec/d05d051a225871af52bf504f5e8daf57704811b3c1850d0012\n",
            "  Building wheel for visdom (setup.py) ... \u001b[?25l\u001b[?25hdone\n",
            "  Created wheel for visdom: filename=visdom-0.1.8.9-cp36-none-any.whl size=655252 sha256=96219feb61c09858f4b2a18c2af0938a6389703d8f642ce355fc21e64f49c4e1\n",
            "  Stored in directory: /root/.cache/pip/wheels/70/19/a7/6d589ed967f4dfefd33bc166d081257bd4ed0cb618dccfd62a\n",
            "  Building wheel for torchfile (setup.py) ... \u001b[?25l\u001b[?25hdone\n",
            "  Created wheel for torchfile: filename=torchfile-0.1.0-cp36-none-any.whl size=5711 sha256=9acc4ec8721cd5f75d63e7a961c8245aef46471ab512ee9881add3330cf73631\n",
            "  Stored in directory: /root/.cache/pip/wheels/b1/c3/d6/9a1cc8f3a99a0fc1124cae20153f36af59a6e683daca0a0814\n",
            "Successfully built torchnet visdom torchfile\n",
            "Installing collected packages: jsonpointer, jsonpatch, torchfile, websocket-client, visdom, torchnet\n",
            "Successfully installed jsonpatch-1.24 jsonpointer-2.0 torchfile-0.1.0 torchnet-0.0.5.1 visdom-0.1.8.9 websocket-client-0.56.0\n"
          ],
          "name": "stdout"
        }
      ]
    },
    {
      "cell_type": "code",
      "metadata": {
        "id": "xzmKOyGAzGnw",
        "colab_type": "code",
        "outputId": "9a442ff3-a747-4497-d285-16abcd03fd07",
        "colab": {
          "base_uri": "https://localhost:8080/",
          "height": 34
        }
      },
      "source": [
        "import os\n",
        "import numpy as np\n",
        "import h5py\n",
        "\n",
        "import torch\n",
        "import torch.nn as nn\n",
        "from torch.autograd import Variable\n",
        "import torch.utils.data as DD\n",
        "import torchnet as tnt\n",
        "\n",
        "use_cuda = torch.cuda.is_available()\n",
        "print('use cuda: %s'%(use_cuda))\n",
        "FloatTensor = torch.cuda.FloatTensor if use_cuda else torch.FloatTensor\n",
        "LongTensor = torch.cuda.LongTensor if use_cuda else torch.LongTensor\n",
        "ByteTensor = torch.cuda.ByteTensor if use_cuda else torch.ByteTensor\n"
      ],
      "execution_count": 4,
      "outputs": [
        {
          "output_type": "stream",
          "text": [
            "use cuda: False\n"
          ],
          "name": "stdout"
        }
      ]
    },
    {
      "cell_type": "markdown",
      "metadata": {
        "id": "gMuQMMsCzGn_",
        "colab_type": "text"
      },
      "source": [
        "## Dataset\n",
        "The data we are using is skeleton data, which indicates the 3D locations of body joints. In total, there are 25 body joints. It is collected by Kinect v2. To make it easier, each sequence have same number of frames. You need to classify 10 different actions. There are 2000 training sequences, 400 validation sequences, and 500 test sequences. Each sequence has 15 frames, each frame is a 75-dimension vector (3*25). \n",
        "\n",
        "For your convenience, we provide the dataloader for you.\n"
      ]
    },
    {
      "cell_type": "code",
      "metadata": {
        "id": "EXO8pvo2zGoC",
        "colab_type": "code",
        "colab": {}
      },
      "source": [
        "class Dataset(DD.Dataset):\n",
        "    # subset can be: 'train', 'val', 'test'\n",
        "    def __init__(self, data_path, subset='train'):\n",
        "        super(Dataset, self).__init__()\n",
        "        data_path = '/content/drive/My Drive/Question3/data'\n",
        "        self.data_path = os.path.join(data_path, '%s_data.h5'%subset)\n",
        "        self.subset = subset\n",
        "\n",
        "        with h5py.File(self.data_path) as f:\n",
        "            self.data = np.array(f['data'])\n",
        "\n",
        "        if subset != 'test':\n",
        "            self.label_path = os.path.join(data_path, '%s_label.h5'%subset)\n",
        "            with h5py.File(self.label_path) as f:\n",
        "                self.label = np.array(f['label'])\n",
        "\n",
        "        self.num_sequences = self.data.shape[0]\n",
        "        self.seq_len = self.data.shape[1]\n",
        "        self.n_dim = self.data.shape[2]\n",
        "\n",
        "    def __getitem__(self, index):\n",
        "        seq = self.data[index]\n",
        "        if self.subset != 'test':\n",
        "            label = int(self.label[index])\n",
        "            sample = {'seq': seq, 'label': label}\n",
        "        else:\n",
        "            sample = {'seq': seq}\n",
        "        return sample\n",
        "\n",
        "    def __len__(self):\n",
        "        return self.num_sequences\n",
        "\n",
        "trSet = Dataset('/content/drive/My Drive/Question3/data', subset='train')\n",
        "valSet = Dataset('/content/drive/My Drive/Question3/data', subset='val')\n",
        "tstSet = Dataset('/content/drive/My Drive/Question3/data', subset='test')\n",
        "\n",
        "batch_size = 50\n",
        "trLD = DD.DataLoader(trSet, batch_size=batch_size,\n",
        "       sampler=DD.sampler.RandomSampler(trSet),\n",
        "       num_workers=2, pin_memory=False)\n",
        "valLD = DD.DataLoader(valSet, batch_size=batch_size,\n",
        "       sampler=DD.sampler.SequentialSampler(valSet),\n",
        "       num_workers=1, pin_memory=False)\n",
        "tstLD = DD.DataLoader(tstSet, batch_size=batch_size,\n",
        "       sampler=DD.sampler.SequentialSampler(tstSet),\n",
        "       num_workers=1, pin_memory=False)\n",
        "\n",
        "input_dim = trSet.n_dim\n",
        "num_class = 10"
      ],
      "execution_count": 0,
      "outputs": []
    },
    {
      "cell_type": "markdown",
      "metadata": {
        "id": "WYZs2LMkzGoJ",
        "colab_type": "text"
      },
      "source": [
        "## Model\n",
        "Pytorch has implemented different types of recurrent layers for you. For this homework, you can use any type of RNNs as you want:\n",
        "> torch.nn.RNN()\n",
        "\n",
        "> torch.nn.LSTM()\n",
        "\n",
        "> torch.nn.GRU()\n",
        "\n",
        "You can check details for different types of recurrent layers here: [RNN](http://pytorch.org/docs/master/nn.html#torch.nn.RNN), [LSTM]( http://pytorch.org/docs/master/nn.html#torch.nn.LSTM), [GRU](http://pytorch.org/docs/master/nn.html#torch.nn.GRU)\n",
        "\n",
        "\n",
        "### Implement a specific model\n",
        "In this section, you need to implement a model for sequence classification. The model has following layers:\n",
        "* A linear layer that can map features of 75-dimension to 100-dimension.\n",
        "* 1 Layer LSTM layer with hidden size of 100\n",
        "* A linear layer that goes from 100 to num_class (10). \n",
        "\n",
        "An LSTM layer takes an input of size of (batch_size, seq_len, fea_dim) and outputs a variable of shape (batch_size, seq_len, hidden_size). In this homework, the classification score for a sequence is the classification score for the last step of rnn_outputs.\n",
        "\n"
      ]
    },
    {
      "cell_type": "code",
      "metadata": {
        "id": "p7fj2fjTzGoL",
        "colab_type": "code",
        "colab": {}
      },
      "source": [
        "# sequence classification model\n",
        "class SequenceClassify(nn.Module):\n",
        "    def __init__(self):\n",
        "        super(SequenceClassify, self).__init__()\n",
        "        \n",
        "        ############## 1st To Do (10 points) ##############\n",
        "        ###################################################\n",
        "        self.project_layer = nn.Linear(75,100)\n",
        "        self.recurrent_layer = nn.LSTM(100,100,1)\n",
        "        self.classify_layer = nn.Linear(100,10)\n",
        "        ###################################################\n",
        "    \n",
        "    # the size of input is [batch_size, seq_len(15), input_dim(75)]\n",
        "    # the size of logits is [batch_size, num_class]\n",
        "    def forward(self, input, h_t_1=None, c_t_1=None):\n",
        "        # the size of rnn_outputs is [batch_size, seq_len, rnn_size]\n",
        "        rnn_outputs, (hn, cn) = self.recurrent_layer(self.project_layer(input))\n",
        "        # classify the last step of rnn_outpus\n",
        "        # the size of logits is [batch_size, num_class]\n",
        "        logits = self.classify_layer(rnn_outputs[:,-1])\n",
        "        return logits\n",
        "\n",
        "model = SequenceClassify()"
      ],
      "execution_count": 0,
      "outputs": []
    },
    {
      "cell_type": "markdown",
      "metadata": {
        "id": "rQXf8dINzGoT",
        "colab_type": "text"
      },
      "source": [
        "## Train the model\n",
        "After you have the dataloader and model, you can start training the model. Define a SGD optimizer with learning rate of 1e-3, and a cross-entropy loss function:"
      ]
    },
    {
      "cell_type": "code",
      "metadata": {
        "id": "zo8WUdiIzGoU",
        "colab_type": "code",
        "colab": {}
      },
      "source": [
        "################ 2nd To Do  (5 points)##################\n",
        "optimizer = torch.optim.SGD(model.parameters(), lr = 1e-3)\n",
        "criterion = torch.nn.CrossEntropyLoss()"
      ],
      "execution_count": 0,
      "outputs": []
    },
    {
      "cell_type": "code",
      "metadata": {
        "id": "nbus_qJIzGoZ",
        "colab_type": "code",
        "colab": {
          "base_uri": "https://localhost:8080/",
          "height": 420
        },
        "outputId": "136df7e0-8904-413f-f457-5f6200b92b79"
      },
      "source": [
        "# run the model for one epoch\n",
        "# can be used for both training or validation model\n",
        "def run_epoch(data_loader, model, criterion, epoch, is_training, optimizer=None):\n",
        "    if is_training:\n",
        "        model.train()\n",
        "        logger_prefix = 'train'\n",
        "    else:\n",
        "        model.eval()\n",
        "        logger_prefix = 'val'\n",
        "\n",
        "    confusion_matrix = tnt.meter.ConfusionMeter(num_class)\n",
        "    acc = tnt.meter.ClassErrorMeter(accuracy=True)\n",
        "    meter_loss = tnt.meter.AverageValueMeter()\n",
        "\n",
        "    for batch_idx, sample in enumerate(data_loader):\n",
        "        sequence = sample['seq']\n",
        "        label = sample['label']\n",
        "        input_sequence_var = Variable(sequence).type(FloatTensor)\n",
        "        input_label_var = Variable(label).type(LongTensor)\n",
        "\n",
        "        # compute output\n",
        "        # output_logits: [batch_size, num_class]\n",
        "        output_logits = model(input_sequence_var)\n",
        "        loss = criterion(output_logits, input_label_var)\n",
        "\n",
        "        if is_training:\n",
        "            optimizer.zero_grad()\n",
        "            loss.backward()\n",
        "            optimizer.step()\n",
        "\n",
        "        meter_loss.add(loss.data)\n",
        "        acc.add(output_logits.data, input_label_var.data)\n",
        "        confusion_matrix.add(output_logits.data, input_label_var.data)\n",
        "\n",
        "\n",
        "    print('%s Epoch: %d  , Loss: %.4f,  Accuracy: %.2f'%(logger_prefix, epoch, meter_loss.value()[0], acc.value()[0]))\n",
        "    return acc.value()[0]\n",
        "\n",
        "num_epochs = 20\n",
        "evaluate_every_epoch = 5\n",
        "for e in range(num_epochs):\n",
        "    run_epoch(trLD, model, criterion, e, True, optimizer)\n",
        "    if e % evaluate_every_epoch == 0:\n",
        "        run_epoch(valLD, model, criterion, e, False, None)   \n"
      ],
      "execution_count": 15,
      "outputs": [
        {
          "output_type": "stream",
          "text": [
            "train Epoch: 0  , Loss: 2.3052,  Accuracy: 8.15\n",
            "val Epoch: 0  , Loss: 2.3057,  Accuracy: 7.75\n",
            "train Epoch: 1  , Loss: 2.3046,  Accuracy: 8.60\n",
            "train Epoch: 2  , Loss: 2.3045,  Accuracy: 7.90\n",
            "train Epoch: 3  , Loss: 2.3038,  Accuracy: 8.25\n",
            "train Epoch: 4  , Loss: 2.3037,  Accuracy: 8.20\n",
            "train Epoch: 5  , Loss: 2.3040,  Accuracy: 8.65\n",
            "val Epoch: 5  , Loss: 2.3041,  Accuracy: 8.75\n",
            "train Epoch: 6  , Loss: 2.3037,  Accuracy: 9.10\n",
            "train Epoch: 7  , Loss: 2.3034,  Accuracy: 8.95\n",
            "train Epoch: 8  , Loss: 2.3034,  Accuracy: 8.60\n",
            "train Epoch: 9  , Loss: 2.3032,  Accuracy: 8.70\n",
            "train Epoch: 10  , Loss: 2.3031,  Accuracy: 9.65\n",
            "val Epoch: 10  , Loss: 2.3029,  Accuracy: 10.00\n",
            "train Epoch: 11  , Loss: 2.3025,  Accuracy: 9.50\n",
            "train Epoch: 12  , Loss: 2.3027,  Accuracy: 9.25\n",
            "train Epoch: 13  , Loss: 2.3024,  Accuracy: 9.20\n",
            "train Epoch: 14  , Loss: 2.3022,  Accuracy: 10.25\n",
            "train Epoch: 15  , Loss: 2.3023,  Accuracy: 10.20\n",
            "val Epoch: 15  , Loss: 2.3021,  Accuracy: 9.75\n",
            "train Epoch: 16  , Loss: 2.3018,  Accuracy: 10.75\n",
            "train Epoch: 17  , Loss: 2.3020,  Accuracy: 11.50\n",
            "train Epoch: 18  , Loss: 2.3020,  Accuracy: 11.25\n",
            "train Epoch: 19  , Loss: 2.3015,  Accuracy: 11.80\n"
          ],
          "name": "stdout"
        }
      ]
    },
    {
      "cell_type": "markdown",
      "metadata": {
        "id": "r_hqe-krzGod",
        "colab_type": "text"
      },
      "source": [
        "## Submit your results \n",
        "\n",
        "### Train a better model for action recognition!\n",
        "Now it's your job to experiment with architectures, hyperparameters, loss functions, and optimizers to train a model that achieves better accuracy on the action recognition validation set. \n",
        "\n",
        "\n",
        "### Testing the model and reporting the results\n",
        "Test the model on the testing set and save the results as a .csv file. \n",
        "submit the results.csv file generated by predict_on_test(). Also mention the best performance on the Validation set, and submit the corresponding results csv file which results in the best performance. \n",
        "################ 3rd To Do  (15 points) ###############\n"
      ]
    },
    {
      "cell_type": "code",
      "metadata": {
        "id": "JzRFppokFttZ",
        "colab_type": "code",
        "colab": {}
      },
      "source": [
        "class Flatten(nn.Module):\n",
        "    def forward(self, x):\n",
        "        N, C, H, W = x.size()\n",
        "        return x.view(N, -1)   "
      ],
      "execution_count": 0,
      "outputs": []
    },
    {
      "cell_type": "code",
      "metadata": {
        "id": "Zx11hgXRFxOk",
        "colab_type": "code",
        "colab": {}
      },
      "source": [
        "class SeqCl(nn.Module):\n",
        "    def __init__(self):\n",
        "        super(SeqCl, self).__init__()\n",
        "        self.layer= nn.Sequential(\n",
        "            nn.Conv2d(1, 8, kernel_size=2, stride=1,padding=3),\n",
        "            nn.ReLU(inplace=True),\n",
        "            nn.MaxPool2d(kernel_size=2,stride=2),\n",
        "            nn.BatchNorm2d(8),\n",
        "            nn.Conv2d(8, 32, kernel_size=2, stride=1,padding=3),\n",
        "            nn.ReLU(inplace=True),\n",
        "            nn.MaxPool2d(kernel_size=2,stride=2),\n",
        "            nn.BatchNorm2d(32),\n",
        "            nn.Conv2d(32, 64, kernel_size=2, stride=1,padding=3),\n",
        "            nn.ReLU(inplace=True),\n",
        "            nn.MaxPool2d(kernel_size=2,stride=2),\n",
        "            nn.BatchNorm2d(64),\n",
        "            nn.Conv2d(64, 128, kernel_size=2, stride=1,padding=3),\n",
        "            nn.ReLU(inplace=True),\n",
        "            nn.MaxPool2d(kernel_size=2,stride=2),\n",
        "            nn.Dropout2d(p=0.2),\n",
        "            Flatten(),\n",
        "            nn.Linear(5760, 100),\n",
        "            nn.BatchNorm1d(100),\n",
        "        )\n",
        "        \n",
        "        self.recurrent_layer = nn.LSTM(100,100,1)\n",
        "        self.classify_layer = nn.Linear(100,10)\n",
        "    \n",
        "    # the size of input is [batch_size, seq_len(15), input_dim(75)]\n",
        "    # the size of logits is [batch_size, num_class]\n",
        "    def forward(self, input, h_t_1=None, c_t_1=None):\n",
        "        # the size of rnn_outputs is [batch_size, seq_len, rnn_size]\n",
        "        rnn_outputs = self.layer(input.view(50, 1, 15, 75))\n",
        "        rnn_outputs, (hn, cn) = self.recurrent_layer(rnn_outputs.view(50, 1, 100))\n",
        "        # classify the last step of rnn_outpus\n",
        "        # the size of logits is [batch_size, num_class]\n",
        "        logits = self.classify_layer(rnn_outputs[:,-1])\n",
        "        return logits\n",
        "\n",
        "model = SeqCl()\n",
        "from torch import optim\n",
        "loss_fn =  nn.CrossEntropyLoss()\n",
        "optimizer = optim.RMSprop(model.parameters(),lr=1e-4)"
      ],
      "execution_count": 0,
      "outputs": []
    },
    {
      "cell_type": "code",
      "metadata": {
        "id": "TpPIkz0wQE1y",
        "colab_type": "code",
        "colab": {
          "base_uri": "https://localhost:8080/",
          "height": 1000
        },
        "outputId": "92766acc-f0ff-46e4-fe42-743460c56b9b"
      },
      "source": [
        "num_epochs = 50\n",
        "evaluate_every_epoch = 5\n",
        "for e in range(num_epochs):\n",
        "    run_epoch(trLD, model, criterion, e, True, optimizer)\n",
        "    if e % evaluate_every_epoch == 0:\n",
        "        run_epoch(valLD, model, criterion, e, False, None) "
      ],
      "execution_count": 50,
      "outputs": [
        {
          "output_type": "stream",
          "text": [
            "train Epoch: 0  , Loss: 2.1618,  Accuracy: 29.55\n",
            "val Epoch: 0  , Loss: 2.0196,  Accuracy: 42.50\n",
            "train Epoch: 1  , Loss: 1.8923,  Accuracy: 44.40\n",
            "train Epoch: 2  , Loss: 1.7166,  Accuracy: 51.35\n",
            "train Epoch: 3  , Loss: 1.5823,  Accuracy: 56.65\n",
            "train Epoch: 4  , Loss: 1.4728,  Accuracy: 60.55\n",
            "train Epoch: 5  , Loss: 1.3698,  Accuracy: 64.25\n",
            "val Epoch: 5  , Loss: 1.3362,  Accuracy: 62.50\n",
            "train Epoch: 6  , Loss: 1.2733,  Accuracy: 67.65\n",
            "train Epoch: 7  , Loss: 1.1961,  Accuracy: 69.75\n",
            "train Epoch: 8  , Loss: 1.1151,  Accuracy: 72.00\n",
            "train Epoch: 9  , Loss: 1.0474,  Accuracy: 73.60\n",
            "train Epoch: 10  , Loss: 0.9878,  Accuracy: 74.50\n",
            "val Epoch: 10  , Loss: 0.9930,  Accuracy: 72.50\n",
            "train Epoch: 11  , Loss: 0.9442,  Accuracy: 74.80\n",
            "train Epoch: 12  , Loss: 0.8808,  Accuracy: 76.10\n",
            "train Epoch: 13  , Loss: 0.8352,  Accuracy: 77.55\n",
            "train Epoch: 14  , Loss: 0.7941,  Accuracy: 79.15\n",
            "train Epoch: 15  , Loss: 0.7488,  Accuracy: 79.85\n",
            "val Epoch: 15  , Loss: 0.8267,  Accuracy: 74.00\n",
            "train Epoch: 16  , Loss: 0.7195,  Accuracy: 80.25\n",
            "train Epoch: 17  , Loss: 0.6953,  Accuracy: 80.10\n",
            "train Epoch: 18  , Loss: 0.6623,  Accuracy: 81.50\n",
            "train Epoch: 19  , Loss: 0.6252,  Accuracy: 82.80\n",
            "train Epoch: 20  , Loss: 0.6088,  Accuracy: 83.45\n",
            "val Epoch: 20  , Loss: 0.7098,  Accuracy: 76.50\n",
            "train Epoch: 21  , Loss: 0.5776,  Accuracy: 84.00\n",
            "train Epoch: 22  , Loss: 0.5628,  Accuracy: 84.15\n",
            "train Epoch: 23  , Loss: 0.5337,  Accuracy: 85.60\n",
            "train Epoch: 24  , Loss: 0.5089,  Accuracy: 84.90\n",
            "train Epoch: 25  , Loss: 0.4979,  Accuracy: 85.20\n",
            "val Epoch: 25  , Loss: 0.6400,  Accuracy: 79.00\n",
            "train Epoch: 26  , Loss: 0.4687,  Accuracy: 87.40\n",
            "train Epoch: 27  , Loss: 0.4505,  Accuracy: 87.85\n",
            "train Epoch: 28  , Loss: 0.4426,  Accuracy: 87.75\n",
            "train Epoch: 29  , Loss: 0.4130,  Accuracy: 88.85\n",
            "train Epoch: 30  , Loss: 0.4001,  Accuracy: 88.50\n",
            "val Epoch: 30  , Loss: 0.6149,  Accuracy: 78.00\n",
            "train Epoch: 31  , Loss: 0.3907,  Accuracy: 89.00\n",
            "train Epoch: 32  , Loss: 0.3695,  Accuracy: 89.45\n",
            "train Epoch: 33  , Loss: 0.3525,  Accuracy: 89.45\n",
            "train Epoch: 34  , Loss: 0.3323,  Accuracy: 91.20\n",
            "train Epoch: 35  , Loss: 0.3330,  Accuracy: 90.65\n",
            "val Epoch: 35  , Loss: 0.5785,  Accuracy: 80.50\n",
            "train Epoch: 36  , Loss: 0.3171,  Accuracy: 90.60\n",
            "train Epoch: 37  , Loss: 0.3100,  Accuracy: 90.75\n",
            "train Epoch: 38  , Loss: 0.3030,  Accuracy: 91.50\n",
            "train Epoch: 39  , Loss: 0.2805,  Accuracy: 92.10\n",
            "train Epoch: 40  , Loss: 0.2733,  Accuracy: 92.65\n",
            "val Epoch: 40  , Loss: 0.5797,  Accuracy: 81.25\n",
            "train Epoch: 41  , Loss: 0.2597,  Accuracy: 92.85\n",
            "train Epoch: 42  , Loss: 0.2541,  Accuracy: 91.95\n",
            "train Epoch: 43  , Loss: 0.2392,  Accuracy: 93.40\n",
            "train Epoch: 44  , Loss: 0.2387,  Accuracy: 93.20\n",
            "train Epoch: 45  , Loss: 0.2290,  Accuracy: 93.80\n",
            "val Epoch: 45  , Loss: 0.6053,  Accuracy: 80.00\n",
            "train Epoch: 46  , Loss: 0.2228,  Accuracy: 93.00\n",
            "train Epoch: 47  , Loss: 0.2140,  Accuracy: 94.10\n",
            "train Epoch: 48  , Loss: 0.2120,  Accuracy: 94.30\n",
            "train Epoch: 49  , Loss: 0.1920,  Accuracy: 94.90\n"
          ],
          "name": "stdout"
        }
      ]
    },
    {
      "cell_type": "code",
      "metadata": {
        "id": "n87MwbsGzGoe",
        "colab_type": "code",
        "colab": {
          "base_uri": "https://localhost:8080/",
          "height": 34
        },
        "outputId": "e3680ced-279f-40d1-ae40-c3e5c6dba2d1"
      },
      "source": [
        "# Use your best model to generate results on test set and validation set.\n",
        "\n",
        "# generate csv file for test set\n",
        "def predict_on_test(model, data_loader):\n",
        "    model.eval() # Put the model in test mode (the opposite of model.train(), essentially)\n",
        "    results=open('results.csv','w')\n",
        "    count=0\n",
        "    results.write('Id'+','+'Class'+'\\n')\n",
        "    for batch_idx, sample in enumerate(data_loader):\n",
        "        sequence = sample['seq']\n",
        "        input_sequence_var = Variable(sequence).type(FloatTensor)\n",
        "        scores = model(input_sequence_var)\n",
        "        _, preds = scores.data.max(1)\n",
        "        for i in range(len(preds)):\n",
        "            results.write(str(count)+','+str(preds[i])+'\\n')\n",
        "            count+=1\n",
        "    results.close()\n",
        "    return count\n",
        "\n",
        "count=predict_on_test(model, tstLD)\n",
        "print(count)"
      ],
      "execution_count": 51,
      "outputs": [
        {
          "output_type": "stream",
          "text": [
            "500\n"
          ],
          "name": "stdout"
        }
      ]
    },
    {
      "cell_type": "markdown",
      "metadata": {
        "id": "yJua9UOMzGoi",
        "colab_type": "text"
      },
      "source": [
        "## Report the performance\n",
        "################ 4th To Do  (5 points)##################\n",
        "\n",
        "In this cell, you should write an explanation of what you did (network architecture, optimiziter, learning rate, epoches) and any visualizations or graphs that you make in the process of training and evaluating your network.\n",
        "\n"
      ]
    },
    {
      "cell_type": "markdown",
      "metadata": {
        "id": "RsPkGp53zGoi",
        "colab_type": "text"
      },
      "source": [
        "I have tried to implement the following architecture based on \n",
        " [conv-relu-pool]xN -> [affine]xM\n",
        "\n",
        " So here the N = 4 and M =1.\n",
        " This model has been used as the accoracy I got through it is 80%.\n",
        "\n",
        "The architecture used is:\n",
        "1. Started with the BAtch Normalisation of the input.\n",
        "2. 2x2 Convolutional Layer with 8 filters with stride of 1 and pixel padding of 3.\n",
        "3. ReLU Activation Layer\n",
        "4. 2x2 Max Pooling layer with a stride of 2.\n",
        "5. 2x2 Convolutional Layer with 32 filters with stride of 1 and pixel padding of 3.\n",
        "6. ReLU Activation Layer\n",
        "7. 2x2 Max Pooling layer with a stride of 2\n",
        "8. 4x4 Convolutional Layer with 32 filters with stride of 1 and pixel padding of 3.\n",
        "9. ReLU Activation Layer\n",
        "10. 2x2 Max Pooling layer with a stride of 2\n",
        "11. 4x4 Convolutional Layer with 32 filters with stride of 2 and pixel padding of 3.\n",
        "12. ReLU Activation Layer\n",
        "13. 2x2 Max Pooling layer with a stride of 2\n",
        "14. Do the Batch Normalization before the start of each Convolutional Layer.\n",
        "15. Dropout Layer with a probability of 0.2.\n",
        "16. Flatten the feature map.\n",
        "17. Affine layer to map input units to 10 outputs.\n",
        "\n",
        "When I increased the epoch I got a good accuracy. As the model was able to train fast I could run it for 50 epochs.So the accuracy increased from mere 67 % to more than 90%. \n",
        "\n",
        "I used 2 optimizers. RmSProp and Adam Optimizer. I checked for 10 epoches and I saw that RmsProp gave me a good accuracy than Adam Optimizer.\n",
        "\n",
        "\n",
        "\n",
        "\n",
        "\n",
        "\n"
      ]
    }
  ]
}